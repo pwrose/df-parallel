{
 "cells": [
  {
   "cell_type": "code",
   "execution_count": 1,
   "id": "adde6518-742b-42a6-923d-9f2a1ce7ef36",
   "metadata": {},
   "outputs": [],
   "source": [
    "import os\n",
    "import time\n",
    "import math\n",
    "import psutil\n",
    "import matplotlib\n",
    "import matplotlib.pyplot as plt\n",
    "import pandas as pd\n",
    "from pyspark.sql import SparkSession\n",
    "from pyspark.sql.functions import col, desc"
   ]
  },
  {
   "cell_type": "markdown",
   "id": "ee708ac8-ac06-4b09-b99f-0aacbeb2c23c",
   "metadata": {},
   "source": [
    "If LOCAL_SCRATCH_DIR environment variable is not set, this notebook accesses the ../data directory for temporary files."
   ]
  },
  {
   "cell_type": "code",
   "execution_count": 2,
   "id": "d3b8353c-b5de-4846-aa96-be5b2beef783",
   "metadata": {},
   "outputs": [
    {
     "name": "stdout",
     "output_type": "stream",
     "text": [
      "Filename: ../data/gene_info.tsv\n"
     ]
    }
   ],
   "source": [
    "DATA_DIR = os.getenv(\"LOCAL_SCRATCH_DIR\", default=\"../data\")\n",
    "filename = os.path.join(DATA_DIR, \"gene_info.tsv\")\n",
    "print(\"Filename:\", filename)"
   ]
  },
  {
   "cell_type": "code",
   "execution_count": null,
   "id": "10b79889-4677-4780-b98c-a1f3bef009bb",
   "metadata": {},
   "outputs": [],
   "source": []
  },
  {
   "cell_type": "markdown",
   "id": "b010287a-1f99-4e2d-84d4-5282b04b4e5f",
   "metadata": {},
   "source": [
    "Get number of physical and logical cores (with hypherthreading)"
   ]
  },
  {
   "cell_type": "code",
   "execution_count": 3,
   "id": "2700389e-5478-4542-9e7b-4f35253b0426",
   "metadata": {},
   "outputs": [],
   "source": [
    "physical_cores = psutil.cpu_count(logical=False)\n",
    "logical_cores = psutil.cpu_count(logical=True)"
   ]
  },
  {
   "cell_type": "code",
   "execution_count": 4,
   "id": "e974f95f-69ff-4dd2-b7ed-f36ef903b371",
   "metadata": {},
   "outputs": [
    {
     "name": "stdout",
     "output_type": "stream",
     "text": [
      "Physical cores: 4\n",
      "Logical cores: 8\n"
     ]
    }
   ],
   "source": [
    "print(f\"Physical cores: {physical_cores}\")\n",
    "print(f\"Logical cores: {logical_cores}\")"
   ]
  },
  {
   "cell_type": "code",
   "execution_count": 5,
   "id": "a7276bf2-742a-4103-8b76-8adaf9ae13ee",
   "metadata": {},
   "outputs": [
    {
     "name": "stdout",
     "output_type": "stream",
     "text": [
      "[1, 2, 4]\n"
     ]
    }
   ],
   "source": [
    "n = round(math.log(physical_cores, 2))\n",
    "cores = [2**i for i in range(n+1)]\n",
    "print(cores)"
   ]
  },
  {
   "cell_type": "code",
   "execution_count": null,
   "id": "2a63dfe0-b432-494c-9782-899754cd9a12",
   "metadata": {},
   "outputs": [],
   "source": []
  },
  {
   "cell_type": "code",
   "execution_count": 6,
   "id": "57269650-141b-493c-a6bb-29ae5980aee0",
   "metadata": {
    "tags": []
   },
   "outputs": [
    {
     "name": "stderr",
     "output_type": "stream",
     "text": [
      "Setting default log level to \"WARN\".\n",
      "To adjust logging level use sc.setLogLevel(newLevel). For SparkR, use setLogLevel(newLevel).\n",
      "                                                                                \r"
     ]
    },
    {
     "name": "stdout",
     "output_type": "stream",
     "text": [
      "1 100.89631724357605\n"
     ]
    },
    {
     "name": "stderr",
     "output_type": "stream",
     "text": [
      "                                                                                \r"
     ]
    },
    {
     "name": "stdout",
     "output_type": "stream",
     "text": [
      "2 39.769089221954346\n"
     ]
    },
    {
     "name": "stderr",
     "output_type": "stream",
     "text": [
      "                                                                                \r"
     ]
    },
    {
     "name": "stdout",
     "output_type": "stream",
     "text": [
      "4 25.178843021392822\n"
     ]
    }
   ],
   "source": [
    "timing = []\n",
    "for num_cores in cores:\n",
    "    start = time.time()\n",
    "    \n",
    "    spark = SparkSession.builder.master(f\"local[{num_cores}]\").appName(\"SparkDataframe\").getOrCreate()\n",
    "    # read only specified columns\n",
    "    column_names = [\"GeneID\", \"Symbol\", \"Synonyms\", \"description\", \"type_of_gene\", \"#tax_id\", \"chromosome\"]\n",
    "\n",
    "    genes = spark.read.option(\"header\",\"true\").option(\"sep\", \"\\t\").csv(filename)\n",
    "    genes = genes.select(column_names)\n",
    "    genes = genes.withColumnRenamed(\"#tax_id\", \"tax_id\")\n",
    "    genes = genes.filter(\"type_of_gene == 'protein-coding'\")\n",
    "    \n",
    "    groups = genes.groupBy([\"tax_id\"]).count()\n",
    "    groups = groups.toDF(\"tax_id\", \"count\")\n",
    "    groups = groups.toDF(\"tax_id\", \"count\")\n",
    "    groups = groups.sort(col(\"count\").desc())\n",
    "    groups = groups.toPandas()\n",
    "    #groups.query(\"tax_id == '9606'\")\n",
    "    #groups.head()\n",
    "    spark.stop()\n",
    "                         \n",
    "    end = time.time()\n",
    "    print(num_cores, (end-start))\n",
    "    timing.append({\"cores\": num_cores, \"time\": end-start})"
   ]
  },
  {
   "cell_type": "code",
   "execution_count": 7,
   "id": "65961590-d3cf-4253-96c7-2e06af8b6f3c",
   "metadata": {},
   "outputs": [],
   "source": [
    "df = pd.DataFrame(timing)"
   ]
  },
  {
   "cell_type": "code",
   "execution_count": 8,
   "id": "6e79a88e-fbfd-483c-ba5b-e6c28b16ab68",
   "metadata": {},
   "outputs": [],
   "source": [
    "df[\"best\"] = df[\"time\"].iloc[0] / df[\"cores\"]"
   ]
  },
  {
   "cell_type": "code",
   "execution_count": 9,
   "id": "043cdbc4-f440-4fa6-ad2d-9339cd134d2b",
   "metadata": {},
   "outputs": [
    {
     "data": {
      "text/html": [
       "<div>\n",
       "<style scoped>\n",
       "    .dataframe tbody tr th:only-of-type {\n",
       "        vertical-align: middle;\n",
       "    }\n",
       "\n",
       "    .dataframe tbody tr th {\n",
       "        vertical-align: top;\n",
       "    }\n",
       "\n",
       "    .dataframe thead th {\n",
       "        text-align: right;\n",
       "    }\n",
       "</style>\n",
       "<table border=\"1\" class=\"dataframe\">\n",
       "  <thead>\n",
       "    <tr style=\"text-align: right;\">\n",
       "      <th></th>\n",
       "      <th>cores</th>\n",
       "      <th>time</th>\n",
       "      <th>best</th>\n",
       "    </tr>\n",
       "  </thead>\n",
       "  <tbody>\n",
       "    <tr>\n",
       "      <th>0</th>\n",
       "      <td>1</td>\n",
       "      <td>100.896317</td>\n",
       "      <td>100.896317</td>\n",
       "    </tr>\n",
       "    <tr>\n",
       "      <th>1</th>\n",
       "      <td>2</td>\n",
       "      <td>39.769089</td>\n",
       "      <td>50.448159</td>\n",
       "    </tr>\n",
       "    <tr>\n",
       "      <th>2</th>\n",
       "      <td>4</td>\n",
       "      <td>25.178843</td>\n",
       "      <td>25.224079</td>\n",
       "    </tr>\n",
       "  </tbody>\n",
       "</table>\n",
       "</div>"
      ],
      "text/plain": [
       "   cores        time        best\n",
       "0      1  100.896317  100.896317\n",
       "1      2   39.769089   50.448159\n",
       "2      4   25.178843   25.224079"
      ]
     },
     "execution_count": 9,
     "metadata": {},
     "output_type": "execute_result"
    }
   ],
   "source": [
    "df"
   ]
  },
  {
   "cell_type": "code",
   "execution_count": 11,
   "id": "94b3070d-aaab-471e-a50b-81edade8ad28",
   "metadata": {},
   "outputs": [
    {
     "data": {
      "image/png": "[encoded data removed]",
      "text/plain": [
       "<Figure size 936x576 with 1 Axes>"
      ]
     },
     "metadata": {
      "needs_background": "light"
     },
     "output_type": "display_data"
    }
   ],
   "source": [
    "fig, ax = plt.subplots(figsize=(13, 8))\n",
    "ax.loglog()\n",
    "for axis in [ax.xaxis, ax.yaxis]:\n",
    "    formatter = matplotlib.ticker.FormatStrFormatter(\"%d\")\n",
    "    axis.set_major_formatter(formatter)\n",
    "    axis.set_minor_formatter(formatter)\n",
    "ax.grid(visible=True, which='major', linewidth=2)\n",
    "ax.grid(visible=True, which='minor')\n",
    "plt.title(\"Scaling plot for Spark\", fontsize=20)\n",
    "plt.xlabel(\"Cores\", fontsize=16)\n",
    "plt.ylabel(\"Time [s]\", fontsize=16)\n",
    "plt.xlim([1, physical_cores])\n",
    "plt.ylim([22, 110])\n",
    "ax.plot(df[\"cores\"].values, df[\"time\"].values);"
   ]
  },
  {
   "cell_type": "code",
   "execution_count": 22,
   "id": "ad8be788-f227-4350-aa82-3a2ee6e49e69",
   "metadata": {},
   "outputs": [],
   "source": [
    "df[\"efficiency\"] = df[\"time\"].iloc[0] / (df[\"time\"] * df[\"cores\"])"
   ]
  },
  {
   "cell_type": "code",
   "execution_count": 23,
   "id": "72819ffd-c428-4830-ad29-a177e5ce1481",
   "metadata": {},
   "outputs": [
    {
     "data": {
      "text/html": [
       "<div>\n",
       "<style scoped>\n",
       "    .dataframe tbody tr th:only-of-type {\n",
       "        vertical-align: middle;\n",
       "    }\n",
       "\n",
       "    .dataframe tbody tr th {\n",
       "        vertical-align: top;\n",
       "    }\n",
       "\n",
       "    .dataframe thead th {\n",
       "        text-align: right;\n",
       "    }\n",
       "</style>\n",
       "<table border=\"1\" class=\"dataframe\">\n",
       "  <thead>\n",
       "    <tr style=\"text-align: right;\">\n",
       "      <th></th>\n",
       "      <th>cores</th>\n",
       "      <th>time</th>\n",
       "      <th>best</th>\n",
       "      <th>efficiency</th>\n",
       "    </tr>\n",
       "  </thead>\n",
       "  <tbody>\n",
       "    <tr>\n",
       "      <th>0</th>\n",
       "      <td>1</td>\n",
       "      <td>100.896317</td>\n",
       "      <td>100.896317</td>\n",
       "      <td>1.000000</td>\n",
       "    </tr>\n",
       "    <tr>\n",
       "      <th>1</th>\n",
       "      <td>2</td>\n",
       "      <td>39.769089</td>\n",
       "      <td>50.448159</td>\n",
       "      <td>1.268527</td>\n",
       "    </tr>\n",
       "    <tr>\n",
       "      <th>2</th>\n",
       "      <td>4</td>\n",
       "      <td>25.178843</td>\n",
       "      <td>25.224079</td>\n",
       "      <td>1.001797</td>\n",
       "    </tr>\n",
       "  </tbody>\n",
       "</table>\n",
       "</div>"
      ],
      "text/plain": [
       "   cores        time        best  efficiency\n",
       "0      1  100.896317  100.896317    1.000000\n",
       "1      2   39.769089   50.448159    1.268527\n",
       "2      4   25.178843   25.224079    1.001797"
      ]
     },
     "execution_count": 23,
     "metadata": {},
     "output_type": "execute_result"
    }
   ],
   "source": [
    "df"
   ]
  },
  {
   "cell_type": "code",
   "execution_count": null,
   "id": "c966d203-3ac8-4a8f-aee5-92eec755230a",
   "metadata": {},
   "outputs": [],
   "source": []
  }
 ],
 "metadata": {
  "kernelspec": {
   "display_name": "Python 3 (ipykernel)",
   "language": "python",
   "name": "python3"
  },
  "language_info": {
   "codemirror_mode": {
    "name": "ipython",
    "version": 3
   },
   "file_extension": ".py",
   "mimetype": "text/x-python",
   "name": "python",
   "nbconvert_exporter": "python",
   "pygments_lexer": "ipython3",
   "version": "3.8.13"
  }
 },
 "nbformat": 4,
 "nbformat_minor": 5
}
