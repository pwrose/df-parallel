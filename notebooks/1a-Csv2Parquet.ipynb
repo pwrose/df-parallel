{
 "cells": [
  {
   "cell_type": "code",
   "execution_count": 1,
   "id": "adde6518-742b-42a6-923d-9f2a1ce7ef36",
   "metadata": {},
   "outputs": [],
   "source": [
    "import os\n",
    "import dask.dataframe as dd\n",
    "import time"
   ]
  },
  {
   "cell_type": "markdown",
   "id": "45a7aabe-b8f6-49b9-a1ba-3cffb08eb580",
   "metadata": {},
   "source": [
    "If LOCAL_SCRATCH_DIR environment variable is not set, this notebook accesses the ../data directory for temporary files."
   ]
  },
  {
   "cell_type": "code",
   "execution_count": 2,
   "id": "79be43cc-8a15-4fd2-a012-4213cd4635da",
   "metadata": {},
   "outputs": [
    {
     "name": "stdout",
     "output_type": "stream",
     "text": [
      "Filename: ../data/gene_info.tsv\n"
     ]
    }
   ],
   "source": [
    "DATA_DIR = os.getenv(\"LOCAL_SCRATCH_DIR\", default=\"../data\")\n",
    "filename = os.path.join(DATA_DIR, \"gene_info.tsv\")\n",
    "print(\"Filename:\", filename)"
   ]
  },
  {
   "cell_type": "code",
   "execution_count": 3,
   "id": "c0cf2752-5e37-4e07-a0ea-a54109c6b215",
   "metadata": {},
   "outputs": [],
   "source": [
    "start = time.time()"
   ]
  },
  {
   "cell_type": "code",
   "execution_count": 4,
   "id": "e1575f4b-5a6b-4fd4-8de1-837d3599015e",
   "metadata": {},
   "outputs": [],
   "source": [
    "genes = dd.read_csv(filename, dtype=str, sep=\"\\t\", blocksize=\"0.25 GB\")"
   ]
  },
  {
   "cell_type": "code",
   "execution_count": 5,
   "id": "6dbcb79e-59d8-4ebc-876d-5bdcae327359",
   "metadata": {},
   "outputs": [],
   "source": [
    "genes.to_parquet(os.path.join(DATA_DIR, \"gene_info.parquet\"), write_index=False)"
   ]
  },
  {
   "cell_type": "code",
   "execution_count": 6,
   "id": "38f1638f-45c2-4ea4-8e19-12a14aa29495",
   "metadata": {},
   "outputs": [],
   "source": [
    "end = time.time()"
   ]
  },
  {
   "cell_type": "code",
   "execution_count": 7,
   "id": "f07ba539-a1df-4215-b1e7-f94037554fe8",
   "metadata": {},
   "outputs": [
    {
     "name": "stdout",
     "output_type": "stream",
     "text": [
      "Csv2Parquet: 161.7 sec.\n"
     ]
    }
   ],
   "source": [
    "print(f\"Csv2Parquet: {end - start:.1f} sec.\")"
   ]
  }
 ],
 "metadata": {
  "kernelspec": {
   "display_name": "Python 3 (ipykernel)",
   "language": "python",
   "name": "python3"
  },
  "language_info": {
   "codemirror_mode": {
    "name": "ipython",
    "version": 3
   },
   "file_extension": ".py",
   "mimetype": "text/x-python",
   "name": "python",
   "nbconvert_exporter": "python",
   "pygments_lexer": "ipython3",
   "version": "3.8.13"
  }
 },
 "nbformat": 4,
 "nbformat_minor": 5
}
