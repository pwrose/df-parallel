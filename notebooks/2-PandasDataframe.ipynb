{
 "cells": [
  {
   "cell_type": "code",
   "execution_count": 1,
   "id": "adde6518-742b-42a6-923d-9f2a1ce7ef36",
   "metadata": {},
   "outputs": [],
   "source": [
    "import os\n",
    "import pandas as pd\n",
    "import time"
   ]
  },
  {
   "cell_type": "markdown",
   "id": "e6e775e5-5010-43ab-a577-b1b1559af979",
   "metadata": {},
   "source": [
    "If LOCAL_SCRATCH_DIR environment variable is not set, this notebook accesses the ../data directory for temporary files."
   ]
  },
  {
   "cell_type": "code",
   "execution_count": 2,
   "id": "eeb2a35d-1738-4a70-81a5-471d9ce8889d",
   "metadata": {},
   "outputs": [
    {
     "name": "stdout",
     "output_type": "stream",
     "text": [
      "Filename: ../data/gene_info.tsv\n"
     ]
    }
   ],
   "source": [
    "DATA_DIR = os.getenv(\"LOCAL_SCRATCH_DIR\", default=\"../data\")\n",
    "filename = os.path.join(DATA_DIR, \"gene_info.tsv\")\n",
    "print(\"Filename:\", filename)"
   ]
  },
  {
   "cell_type": "code",
   "execution_count": 3,
   "id": "c0cf2752-5e37-4e07-a0ea-a54109c6b215",
   "metadata": {},
   "outputs": [],
   "source": [
    "start = time.time()"
   ]
  },
  {
   "cell_type": "code",
   "execution_count": 4,
   "id": "e1575f4b-5a6b-4fd4-8de1-837d3599015e",
   "metadata": {},
   "outputs": [],
   "source": [
    "column_names = [\"GeneID\", \"Symbol\", \"Synonyms\", \"description\", \"type_of_gene\", \"#tax_id\"]\n",
    "\n",
    "genes = pd.read_csv(filename, usecols=column_names, dtype=str, sep=\"\\t\")\n",
    "genes.rename(columns={\"#tax_id\": \"tax_id\"}, inplace=True)"
   ]
  },
  {
   "cell_type": "code",
   "execution_count": 5,
   "id": "3954214f-afba-43a3-bb3e-8add4d8620c8",
   "metadata": {},
   "outputs": [],
   "source": [
    "genes.query(\"type_of_gene == 'protein-coding'\", inplace=True)"
   ]
  },
  {
   "cell_type": "code",
   "execution_count": 6,
   "id": "9ec6b6f3-f727-475f-8deb-798100932556",
   "metadata": {},
   "outputs": [],
   "source": [
    "groups = genes.groupby(\"tax_id\").size().reset_index(name=\"count\")"
   ]
  },
  {
   "cell_type": "code",
   "execution_count": 7,
   "id": "c9244cad-4fce-4989-8e76-bc5d36982de9",
   "metadata": {},
   "outputs": [],
   "source": [
    "groups = groups.sort_values(\"count\", ascending=False)"
   ]
  },
  {
   "cell_type": "markdown",
   "id": "5ff1558c-e161-4e24-aaa6-93b4a990812f",
   "metadata": {},
   "source": [
    "### Number of human protein-coding genes (tax_id = 9606)"
   ]
  },
  {
   "cell_type": "code",
   "execution_count": 8,
   "id": "d5745f4a-242b-4b74-b423-9a7de1de9e78",
   "metadata": {},
   "outputs": [
    {
     "data": {
      "text/html": [
       "<div>\n",
       "<style scoped>\n",
       "    .dataframe tbody tr th:only-of-type {\n",
       "        vertical-align: middle;\n",
       "    }\n",
       "\n",
       "    .dataframe tbody tr th {\n",
       "        vertical-align: top;\n",
       "    }\n",
       "\n",
       "    .dataframe thead th {\n",
       "        text-align: right;\n",
       "    }\n",
       "</style>\n",
       "<table border=\"1\" class=\"dataframe\">\n",
       "  <thead>\n",
       "    <tr style=\"text-align: right;\">\n",
       "      <th></th>\n",
       "      <th>tax_id</th>\n",
       "      <th>count</th>\n",
       "    </tr>\n",
       "  </thead>\n",
       "  <tbody>\n",
       "    <tr>\n",
       "      <th>35211</th>\n",
       "      <td>9606</td>\n",
       "      <td>20596</td>\n",
       "    </tr>\n",
       "  </tbody>\n",
       "</table>\n",
       "</div>"
      ],
      "text/plain": [
       "      tax_id  count\n",
       "35211   9606  20596"
      ]
     },
     "execution_count": 8,
     "metadata": {},
     "output_type": "execute_result"
    }
   ],
   "source": [
    "groups.query(\"tax_id == '9606'\")"
   ]
  },
  {
   "cell_type": "markdown",
   "id": "3842252d-2d7b-4065-bb38-9eaa79e7b112",
   "metadata": {},
   "source": [
    "### Top 5 organisms with the most protein-coding genes"
   ]
  },
  {
   "cell_type": "code",
   "execution_count": 9,
   "id": "afd038df-7f1d-4ac9-8cb3-459fea72ed27",
   "metadata": {},
   "outputs": [
    {
     "data": {
      "text/html": [
       "<div>\n",
       "<style scoped>\n",
       "    .dataframe tbody tr th:only-of-type {\n",
       "        vertical-align: middle;\n",
       "    }\n",
       "\n",
       "    .dataframe tbody tr th {\n",
       "        vertical-align: top;\n",
       "    }\n",
       "\n",
       "    .dataframe thead th {\n",
       "        text-align: right;\n",
       "    }\n",
       "</style>\n",
       "<table border=\"1\" class=\"dataframe\">\n",
       "  <thead>\n",
       "    <tr style=\"text-align: right;\">\n",
       "      <th></th>\n",
       "      <th>tax_id</th>\n",
       "      <th>count</th>\n",
       "    </tr>\n",
       "  </thead>\n",
       "  <tbody>\n",
       "    <tr>\n",
       "      <th>27193</th>\n",
       "      <td>4565</td>\n",
       "      <td>104033</td>\n",
       "    </tr>\n",
       "    <tr>\n",
       "      <th>24813</th>\n",
       "      <td>3708</td>\n",
       "      <td>96995</td>\n",
       "    </tr>\n",
       "    <tr>\n",
       "      <th>34557</th>\n",
       "      <td>90675</td>\n",
       "      <td>82686</td>\n",
       "    </tr>\n",
       "    <tr>\n",
       "      <th>35042</th>\n",
       "      <td>94328</td>\n",
       "      <td>68154</td>\n",
       "    </tr>\n",
       "    <tr>\n",
       "      <th>24530</th>\n",
       "      <td>3635</td>\n",
       "      <td>67632</td>\n",
       "    </tr>\n",
       "  </tbody>\n",
       "</table>\n",
       "</div>"
      ],
      "text/plain": [
       "      tax_id   count\n",
       "27193   4565  104033\n",
       "24813   3708   96995\n",
       "34557  90675   82686\n",
       "35042  94328   68154\n",
       "24530   3635   67632"
      ]
     },
     "execution_count": 9,
     "metadata": {},
     "output_type": "execute_result"
    }
   ],
   "source": [
    "groups.head()"
   ]
  },
  {
   "cell_type": "code",
   "execution_count": 10,
   "id": "38f1638f-45c2-4ea4-8e19-12a14aa29495",
   "metadata": {},
   "outputs": [],
   "source": [
    "end = time.time()"
   ]
  },
  {
   "cell_type": "code",
   "execution_count": 11,
   "id": "f07ba539-a1df-4215-b1e7-f94037554fe8",
   "metadata": {},
   "outputs": [
    {
     "name": "stdout",
     "output_type": "stream",
     "text": [
      "Pandas: 105.9 sec.\n"
     ]
    }
   ],
   "source": [
    "print(f\"Pandas: {end - start:.1f} sec.\")"
   ]
  }
 ],
 "metadata": {
  "kernelspec": {
   "display_name": "Python 3 (ipykernel)",
   "language": "python",
   "name": "python3"
  },
  "language_info": {
   "codemirror_mode": {
    "name": "ipython",
    "version": 3
   },
   "file_extension": ".py",
   "mimetype": "text/x-python",
   "name": "python",
   "nbconvert_exporter": "python",
   "pygments_lexer": "ipython3",
   "version": "3.8.13"
  }
 },
 "nbformat": 4,
 "nbformat_minor": 5
}
