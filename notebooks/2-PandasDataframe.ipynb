{
 "cells": [
  {
   "cell_type": "code",
   "execution_count": 1,
   "id": "adde6518-742b-42a6-923d-9f2a1ce7ef36",
   "metadata": {},
   "outputs": [],
   "source": [
    "import os\n",
    "import pandas as pd\n",
    "import time"
   ]
  },
  {
   "cell_type": "markdown",
   "id": "e6e775e5-5010-43ab-a577-b1b1559af979",
   "metadata": {},
   "source": [
    "If LOCAL_SCRATCH_DIR environment variable is not set, this notebook accesses the ../data directory for temporary files."
   ]
  },
  {
   "cell_type": "code",
   "execution_count": 2,
   "id": "eeb2a35d-1738-4a70-81a5-471d9ce8889d",
   "metadata": {},
   "outputs": [
    {
     "name": "stdout",
     "output_type": "stream",
     "text": [
      "Filename: ../data/gene_info.tsv\n",
      "File Size: 5.4 GB\n"
     ]
    }
   ],
   "source": [
    "DATA_DIR = os.getenv(\"LOCAL_SCRATCH_DIR\", default=\"../data\")\n",
    "filename = os.path.join(DATA_DIR, \"gene_info.tsv\")\n",
    "print(\"Filename:\", filename)\n",
    "file_size = os.path.getsize(filename)\n",
    "print(f\"File Size: {file_size/1E9:.1f} GB\")"
   ]
  },
  {
   "cell_type": "code",
   "execution_count": 3,
   "id": "c0cf2752-5e37-4e07-a0ea-a54109c6b215",
   "metadata": {},
   "outputs": [],
   "source": [
    "start = time.time()"
   ]
  },
  {
   "cell_type": "code",
   "execution_count": 4,
   "id": "e1575f4b-5a6b-4fd4-8de1-837d3599015e",
   "metadata": {},
   "outputs": [],
   "source": [
    "column_names = [\"GeneID\", \"Symbol\", \"Synonyms\", \"description\", \"type_of_gene\", \"#tax_id\"]\n",
    "\n",
    "#genes = pd.read_csv(filename, usecols=column_names, dtype={'tax_id': int, 'GeneID': int, 'type_of_gene': 'category'}, sep=\"\\t\")\n",
    "genes = pd.read_csv(filename, usecols=column_names, dtype=str, sep=\"\\t\")\n",
    "genes.rename(columns={\"#tax_id\": \"tax_id\"}, inplace=True)"
   ]
  },
  {
   "cell_type": "code",
   "execution_count": 5,
   "id": "6405ae4d-b5e8-464c-a58e-732b2cbddd38",
   "metadata": {},
   "outputs": [],
   "source": [
    "# Pandas memory usage\n",
    "#genes.memory_usage(deep=True)"
   ]
  },
  {
   "cell_type": "code",
   "execution_count": 6,
   "id": "2ccfeccc-a83a-460d-b37e-69dfae48255a",
   "metadata": {},
   "outputs": [
    {
     "name": "stdout",
     "output_type": "stream",
     "text": [
      "Total memory: 15.613361037 GB\n"
     ]
    }
   ],
   "source": [
    "print(f\"Total memory: {genes.memory_usage(deep=True).sum()/1E9} GB\")"
   ]
  },
  {
   "cell_type": "code",
   "execution_count": 7,
   "id": "3954214f-afba-43a3-bb3e-8add4d8620c8",
   "metadata": {},
   "outputs": [],
   "source": [
    "genes.query(\"type_of_gene == 'protein-coding'\", inplace=True)"
   ]
  },
  {
   "cell_type": "code",
   "execution_count": null,
   "id": "9ec6b6f3-f727-475f-8deb-798100932556",
   "metadata": {},
   "outputs": [],
   "source": [
    "groups = genes.groupby(\"tax_id\").size().reset_index(name=\"count\")"
   ]
  },
  {
   "cell_type": "code",
   "execution_count": null,
   "id": "c9244cad-4fce-4989-8e76-bc5d36982de9",
   "metadata": {},
   "outputs": [],
   "source": [
    "groups = groups.sort_values(\"count\", ascending=False)"
   ]
  },
  {
   "cell_type": "markdown",
   "id": "5ff1558c-e161-4e24-aaa6-93b4a990812f",
   "metadata": {},
   "source": [
    "### Number of human protein-coding genes (tax_id = 9606)"
   ]
  },
  {
   "cell_type": "code",
   "execution_count": null,
   "id": "d5745f4a-242b-4b74-b423-9a7de1de9e78",
   "metadata": {},
   "outputs": [],
   "source": [
    "groups.query(\"tax_id == '9606'\")"
   ]
  },
  {
   "cell_type": "markdown",
   "id": "3842252d-2d7b-4065-bb38-9eaa79e7b112",
   "metadata": {},
   "source": [
    "### Top 5 organisms with the most protein-coding genes"
   ]
  },
  {
   "cell_type": "code",
   "execution_count": null,
   "id": "afd038df-7f1d-4ac9-8cb3-459fea72ed27",
   "metadata": {},
   "outputs": [],
   "source": [
    "groups.head()"
   ]
  },
  {
   "cell_type": "code",
   "execution_count": null,
   "id": "38f1638f-45c2-4ea4-8e19-12a14aa29495",
   "metadata": {},
   "outputs": [],
   "source": [
    "end = time.time()"
   ]
  },
  {
   "cell_type": "code",
   "execution_count": null,
   "id": "f07ba539-a1df-4215-b1e7-f94037554fe8",
   "metadata": {},
   "outputs": [],
   "source": [
    "print(f\"Pandas: {end - start:.1f} sec.\")"
   ]
  },
  {
   "cell_type": "code",
   "execution_count": null,
   "id": "452c4066-56e9-4357-91a9-68bdff8221cc",
   "metadata": {},
   "outputs": [],
   "source": []
  }
 ],
 "metadata": {
  "kernelspec": {
   "display_name": "Python 3 (ipykernel)",
   "language": "python",
   "name": "python3"
  },
  "language_info": {
   "codemirror_mode": {
    "name": "ipython",
    "version": 3
   },
   "file_extension": ".py",
   "mimetype": "text/x-python",
   "name": "python",
   "nbconvert_exporter": "python",
   "pygments_lexer": "ipython3",
   "version": "3.8.13"
  }
 },
 "nbformat": 4,
 "nbformat_minor": 5
}
