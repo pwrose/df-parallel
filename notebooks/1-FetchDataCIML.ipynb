{
 "cells": [
  {
   "cell_type": "markdown",
   "id": "e09c9dd7-d99c-4a12-a46a-9b84c85b5fb4",
   "metadata": {},
   "source": [
    "# Download Gene Information\n",
    "This noteboook copies and unzips a sample dataset.\n",
    "\n",
    "Dataset description:\n",
    "A list of gene names and annotations for species from [National Center for Biotechnology Information](https://www.ncbi.nlm.nih.gov/) in tsv format.\n",
    "\n",
    "Size: 5.4 GB unzipped (as of June 2022)\n",
    "\n",
    "Source: https://ftp.ncbi.nlm.nih.gov/gene/DATA/gene_info.gz\n",
    "\n",
    "Description: https://ftp.ncbi.nlm.nih.gov/gene/DATA/README\n",
    "\n",
    "To ensure platform independence, this notebook uses Python libraries to unzip a compressed file."
   ]
  },
  {
   "cell_type": "code",
   "execution_count": null,
   "id": "adde6518-742b-42a6-923d-9f2a1ce7ef36",
   "metadata": {},
   "outputs": [],
   "source": [
    "import os\n",
    "import shutil\n",
    "import gzip"
   ]
  },
  {
   "cell_type": "markdown",
   "id": "9b028077-3eaf-4178-b671-787b87cd50b0",
   "metadata": {},
   "source": [
    "If LOCAL_SCRATCH_DIR environment variable is not set, this notebook creates the ../data directory to store temporary files."
   ]
  },
  {
   "cell_type": "code",
   "execution_count": null,
   "id": "66512f04-c189-46ea-ba9d-b54a727047ae",
   "metadata": {},
   "outputs": [],
   "source": [
    "DATA_DIR = os.getenv(\"LOCAL_SCRATCH_DIR\", default=\"../data\")\n",
    "os.makedirs(DATA_DIR, exist_ok=True)"
   ]
  },
  {
   "cell_type": "code",
   "execution_count": null,
   "id": "e26aeb02-f9b5-460d-b358-a4a5f8544da3",
   "metadata": {},
   "outputs": [],
   "source": [
    "filename_in = os.path.join(DATA_DIR, \"/cm/shared/examples/sdsc/ciml/2022/gene_info.gz\")\n",
    "filename_out = os.path.join(DATA_DIR, \"gene_info.tsv\")"
   ]
  },
  {
   "cell_type": "markdown",
   "id": "89016c45-7a36-48e6-929b-f56cee22dada",
   "metadata": {},
   "source": [
    "### Specify the number of copies that should be made of the original dataset to increase its size.\n",
    "\n",
    "A single copy of the file is about 5.4GB. Note, making additional copies is very slow!"
   ]
  },
  {
   "cell_type": "code",
   "execution_count": null,
   "id": "23528aee-f2b5-4639-a7e1-d8f3413b6831",
   "metadata": {},
   "outputs": [],
   "source": [
    "def unzip(filename_in, filename_out):\n",
    "    with gzip.open(filename_in, \"rb\") as f_in:\n",
    "        with open(filename_out, \"wb\") as f_out:\n",
    "            shutil.copyfileobj(f_in, f_out)"
   ]
  },
  {
   "cell_type": "code",
   "execution_count": null,
   "id": "18cf6f32-3e12-4386-9692-f411ed6474d9",
   "metadata": {},
   "outputs": [],
   "source": [
    "print(f\"unzipping {filename_in} to {filename_out}\")\n",
    "unzip(filename_in, filename_out)"
   ]
  },
  {
   "cell_type": "code",
   "execution_count": null,
   "id": "d3023b17-750d-43f2-81a0-fedb4f1e8150",
   "metadata": {},
   "outputs": [],
   "source": [
    "file_size = os.path.getsize(filename_out)\n",
    "print(f\"File Size: {file_size/1E9:.1f} GB\")"
   ]
  }
 ],
 "metadata": {
  "kernelspec": {
   "display_name": "Python 3 (ipykernel)",
   "language": "python",
   "name": "python3"
  },
  "language_info": {
   "codemirror_mode": {
    "name": "ipython",
    "version": 3
   },
   "file_extension": ".py",
   "mimetype": "text/x-python",
   "name": "python",
   "nbconvert_exporter": "python",
   "pygments_lexer": "ipython3",
   "version": "3.8.13"
  }
 },
 "nbformat": 4,
 "nbformat_minor": 5
}
