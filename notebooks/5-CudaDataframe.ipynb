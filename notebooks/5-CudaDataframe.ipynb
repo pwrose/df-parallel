{
 "cells": [
  {
   "cell_type": "markdown",
   "id": "417d97ee-de45-4a68-923b-e36218ab2b26",
   "metadata": {},
   "source": [
    "# 4-CudaDataframe\n",
    "\n",
    "This notebook demonstrates how to read and process a tabular datafile with the [cuDF](https://docs.rapids.ai/api/cudf/stable/) GPU dataframe library. The size of data is limited by the available GPU memory. cuDF provides a pandas-like API.\n",
    "\n",
    "Author: Peter W. Rose (pwrose@ucsd.edu)"
   ]
  },
  {
   "cell_type": "code",
   "execution_count": null,
   "id": "adde6518-742b-42a6-923d-9f2a1ce7ef36",
   "metadata": {},
   "outputs": [],
   "source": [
    "import os\n",
    "import cudf\n",
    "import time"
   ]
  },
  {
   "cell_type": "markdown",
   "id": "8491c3e9-67ef-4117-8010-9e86256c4c09",
   "metadata": {},
   "source": [
    "If LOCAL_SCRATCH_DIR environment variable is not set, this notebook accesses the ../data directory for temporary files."
   ]
  },
  {
   "cell_type": "code",
   "execution_count": null,
   "id": "79be43cc-8a15-4fd2-a012-4213cd4635da",
   "metadata": {},
   "outputs": [],
   "source": [
    "DATA_DIR = os.getenv(\"LOCAL_SCRATCH_DIR\", default=\"../data\")\n",
    "filename = os.path.join(DATA_DIR, \"gene_info.tsv\")\n",
    "print(\"Filename:\", filename)"
   ]
  },
  {
   "cell_type": "markdown",
   "id": "5a78c176-0920-4d81-b52c-320c90bc45b6",
   "metadata": {},
   "source": [
    "### Setup Benchmark"
   ]
  },
  {
   "cell_type": "markdown",
   "id": "daecc5d1-a93c-4131-b6ea-ab38e069226e",
   "metadata": {},
   "source": [
    "The ```file_format``` parameter is used for benchmarking different file formats. \n",
    "This cell below has been [parameterized](https://papermill.readthedocs.io/en/latest/usage-parameterize.html) as input parameters for [papermill](https://papermill.readthedocs.io/en/latest/index.html)."
   ]
  },
  {
   "cell_type": "code",
   "execution_count": null,
   "id": "79024a17-2bee-4c1a-bdc8-c36647f1f666",
   "metadata": {
    "tags": [
     "parameters"
    ]
   },
   "outputs": [],
   "source": [
    "file_format = \"csv\""
   ]
  },
  {
   "cell_type": "code",
   "execution_count": null,
   "id": "c0cf2752-5e37-4e07-a0ea-a54109c6b215",
   "metadata": {},
   "outputs": [],
   "source": [
    "start = time.time()"
   ]
  },
  {
   "cell_type": "markdown",
   "id": "a13a91bd-abb7-43ae-a133-5e62ab173515",
   "metadata": {},
   "source": [
    "### Read Data"
   ]
  },
  {
   "cell_type": "code",
   "execution_count": null,
   "id": "e1575f4b-5a6b-4fd4-8de1-837d3599015e",
   "metadata": {},
   "outputs": [],
   "source": [
    "# read only specified columns and rows\n",
    "column_names = [\"GeneID\", \"Symbol\", \"Synonyms\", \"description\", \"type_of_gene\", \"#tax_id\", \"chromosome\"]\n",
    "filters=[[(\"type_of_gene\", \"==\", \"protein-coding\")]]\n",
    "\n",
    "if file_format == \"csv\":\n",
    "    filename = os.path.join(DATA_DIR, \"gene_info.tsv\")\n",
    "    genes = cudf.read_csv(filename, usecols=column_names, dtype=str, sep=\"\\t\")\n",
    "    genes = genes[genes[\"type_of_gene\"] == 'protein-coding']    \n",
    "elif file_format == \"parquet\":\n",
    "    filename = os.path.join(DATA_DIR, \"gene_info.parquet\")\n",
    "    genes = cudf.read_parquet(filename, columns=column_names, filters=filters)\n",
    "else:\n",
    "    print(\"invalid file format\")\n",
    "    \n",
    "print(\"Filename:\", filename)\n",
    "    \n",
    "genes = genes.rename(columns={\"#tax_id\": \"tax_id\"})"
   ]
  },
  {
   "cell_type": "markdown",
   "id": "198e857f-9e2f-4bb5-b9a5-80925a40d078",
   "metadata": {},
   "source": [
    "### Process Data"
   ]
  },
  {
   "cell_type": "code",
   "execution_count": null,
   "id": "9ec6b6f3-f727-475f-8deb-798100932556",
   "metadata": {},
   "outputs": [],
   "source": [
    "groups = genes.groupby(\"tax_id\").size().reset_index()\n",
    "groups.columns = [\"tax_id\", \"count\"]\n",
    "groups = groups.sort_values(\"count\", ascending=False)"
   ]
  },
  {
   "cell_type": "markdown",
   "id": "b3e7f649-f470-4e03-abeb-7ba2f981a09b",
   "metadata": {},
   "source": [
    "### Display Results"
   ]
  },
  {
   "cell_type": "markdown",
   "id": "5ff1558c-e161-4e24-aaa6-93b4a990812f",
   "metadata": {},
   "source": [
    "#### Number of human protein-coding genes (tax_id = 9606)"
   ]
  },
  {
   "cell_type": "code",
   "execution_count": null,
   "id": "d5745f4a-242b-4b74-b423-9a7de1de9e78",
   "metadata": {},
   "outputs": [],
   "source": [
    "groups[groups[\"tax_id\"]  == \"9606\"]"
   ]
  },
  {
   "cell_type": "markdown",
   "id": "3842252d-2d7b-4065-bb38-9eaa79e7b112",
   "metadata": {},
   "source": [
    "#### Top 5 organisms with the most protein-coding genes"
   ]
  },
  {
   "cell_type": "code",
   "execution_count": null,
   "id": "afd038df-7f1d-4ac9-8cb3-459fea72ed27",
   "metadata": {},
   "outputs": [],
   "source": [
    "groups.head()"
   ]
  },
  {
   "cell_type": "code",
   "execution_count": null,
   "id": "38f1638f-45c2-4ea4-8e19-12a14aa29495",
   "metadata": {},
   "outputs": [],
   "source": [
    "end = time.time()"
   ]
  },
  {
   "cell_type": "code",
   "execution_count": null,
   "id": "f07ba539-a1df-4215-b1e7-f94037554fe8",
   "metadata": {},
   "outputs": [],
   "source": [
    "print(f\"cuDF: {end - start:.1f} sec.\")"
   ]
  }
 ],
 "metadata": {
  "kernelspec": {
   "display_name": "Python 3 (ipykernel)",
   "language": "python",
   "name": "python3"
  },
  "language_info": {
   "codemirror_mode": {
    "name": "ipython",
    "version": 3
   },
   "file_extension": ".py",
   "mimetype": "text/x-python",
   "name": "python",
   "nbconvert_exporter": "python",
   "pygments_lexer": "ipython3",
   "version": "3.9.13"
  }
 },
 "nbformat": 4,
 "nbformat_minor": 5
}
