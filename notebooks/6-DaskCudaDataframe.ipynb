{
 "cells": [
  {
   "cell_type": "markdown",
   "id": "398bb1f8-8fb2-4fb8-9c49-8d6f3c4bccf6",
   "metadata": {},
   "source": [
    "# 6-DaskCudaDataframe\n",
    "\n",
    "This notebook demonstrates how to read and process a tabular datafile with the [DASK-cuDF](https://docs.rapids.ai/api/cudf/latest/user_guide/10min.html) dataframe library. A Dask-cuDF dataframe is a large parallel dataframe composed of smaller cuDF GPU dataframes. Dask-cuDF can handle datasets that are large than the available GPU memory (out-of-core) and process them on one or multiple GPUs.\n",
    "\n",
    "Author: Peter W. Rose (pwrose@ucsd.edu)"
   ]
  },
  {
   "cell_type": "code",
   "execution_count": null,
   "id": "adde6518-742b-42a6-923d-9f2a1ce7ef36",
   "metadata": {},
   "outputs": [],
   "source": [
    "import os\n",
    "import pandas as pd\n",
    "from dask.distributed import Client\n",
    "import dask_cudf\n",
    "import time"
   ]
  },
  {
   "cell_type": "markdown",
   "id": "8491c3e9-67ef-4117-8010-9e86256c4c09",
   "metadata": {},
   "source": [
    "If LOCAL_SCRATCH_DIR environment variable is not set, this notebook accesses the ../data directory for temporary files."
   ]
  },
  {
   "cell_type": "code",
   "execution_count": null,
   "id": "79be43cc-8a15-4fd2-a012-4213cd4635da",
   "metadata": {},
   "outputs": [],
   "source": [
    "DATA_DIR = os.getenv(\"LOCAL_SCRATCH_DIR\", default=\"../data\")\n",
    "filename = os.path.join(DATA_DIR, \"gene_info.tsv\")\n",
    "file_size = f\"{os.path.getsize(filename)/1E9:.1f}\"\n",
    "RESULTS_DIR = \"results\"\n",
    "os.makedirs(RESULTS_DIR, exist_ok=True)"
   ]
  },
  {
   "cell_type": "markdown",
   "id": "5ac618e1-3053-4c32-8c07-8306fe73f14e",
   "metadata": {},
   "source": [
    "### Setup Benchmark"
   ]
  },
  {
   "cell_type": "markdown",
   "id": "80ac5ea8-d684-4eb5-a6d0-454ff3a284c6",
   "metadata": {},
   "source": [
    "The ```n_cores``` and ```file_format``` parameter are used for benchmarking ([see](7-ParallelEfficiency.ipynb)). \n",
    "The cell below has been [parameterized](https://papermill.readthedocs.io/en/latest/usage-parameterize.html#jupyterlab-3-0) as input parameters for [papermill](https://papermill.readthedocs.io/en/latest/index.html)."
   ]
  },
  {
   "cell_type": "code",
   "execution_count": null,
   "id": "8ff62a38-9cbe-4d3a-ac22-1c369c7543eb",
   "metadata": {
    "tags": [
     "parameters"
    ]
   },
   "outputs": [],
   "source": [
    "n_cores = 0 # default -> uses all available cores\n",
    "file_format = \"csv\""
   ]
  },
  {
   "cell_type": "code",
   "execution_count": null,
   "id": "c0cf2752-5e37-4e07-a0ea-a54109c6b215",
   "metadata": {},
   "outputs": [],
   "source": [
    "start = time.time()"
   ]
  },
  {
   "cell_type": "markdown",
   "id": "a23d8828-fc7a-4483-9c4b-ceab2496c539",
   "metadata": {},
   "source": [
    "### Read Data"
   ]
  },
  {
   "cell_type": "code",
   "execution_count": null,
   "id": "3fadd0d8-536e-4b6d-98b7-46ca83a4c82d",
   "metadata": {},
   "outputs": [],
   "source": [
    "if n_cores > 0:\n",
    "    # use n_cores for benchmarking\n",
    "    client = Client(n_workers=n_cores, threads_per_worker=1)\n",
    "else:\n",
    "    # use all available cores\n",
    "    client = Client()"
   ]
  },
  {
   "cell_type": "code",
   "execution_count": null,
   "id": "e1575f4b-5a6b-4fd4-8de1-837d3599015e",
   "metadata": {},
   "outputs": [],
   "source": [
    "# read only specified columns and rows\n",
    "column_names = [\"GeneID\", \"Symbol\", \"Synonyms\", \"description\", \"type_of_gene\", \"#tax_id\", \"chromosome\"]\n",
    "filters=[[(\"type_of_gene\", \"==\", \"protein-coding\")]]\n",
    "\n",
    "if file_format == \"csv\":\n",
    "    filename = os.path.join(DATA_DIR, \"gene_info.tsv\")\n",
    "    genes = dask_cudf.read_csv(filename, usecols=column_names, dtype=str, sep=\"\\t\")\n",
    "    genes = genes[genes[\"type_of_gene\"] == 'protein-coding']\n",
    "elif file_format == \"parquet\":\n",
    "    filename = os.path.join(DATA_DIR, \"gene_info.parquet\")\n",
    "    #genes = dask_cudf.read_parquet(filename, columns=column_names, filters=filters) # filters are ignored\n",
    "    genes = dask_cudf.read_parquet(filename, columns=column_names)\n",
    "    genes = genes[genes[\"type_of_gene\"] == \"protein-coding\"]\n",
    "else:\n",
    "    print(\"invalid file format\")\n",
    "    \n",
    "print(\"Filename:\", filename)\n",
    "\n",
    "genes = genes.rename(columns={\"#tax_id\": \"tax_id\"})"
   ]
  },
  {
   "cell_type": "markdown",
   "id": "cba74dc6-2d42-48e3-84cc-4aaae213b268",
   "metadata": {},
   "source": [
    "### Process Data"
   ]
  },
  {
   "cell_type": "code",
   "execution_count": null,
   "id": "3954214f-afba-43a3-bb3e-8add4d8620c8",
   "metadata": {},
   "outputs": [],
   "source": [
    "groups = genes.groupby(\"tax_id\").size().reset_index()\n",
    "groups.columns = [\"tax_id\", \"count\"]\n",
    "groups = groups.sort_values(\"count\", ascending=False)"
   ]
  },
  {
   "cell_type": "markdown",
   "id": "55929ad6-8c87-4ac6-a1e4-1bfb901be7e5",
   "metadata": {},
   "source": [
    "Convert cuDF to Pandas dataframe (this triggers the computation)"
   ]
  },
  {
   "cell_type": "code",
   "execution_count": null,
   "id": "57339505-54e2-4bef-add4-4da652c31d80",
   "metadata": {},
   "outputs": [],
   "source": [
    "groups = groups.compute()"
   ]
  },
  {
   "cell_type": "code",
   "execution_count": null,
   "id": "b725589d-fa50-4f65-8021-42acc0b3a914",
   "metadata": {},
   "outputs": [],
   "source": [
    "# terminate the Dask processes\n",
    "client.close()"
   ]
  },
  {
   "cell_type": "markdown",
   "id": "ea1d5e58-c776-4009-ad3b-4e77898c027e",
   "metadata": {},
   "source": [
    "### Display Results"
   ]
  },
  {
   "cell_type": "markdown",
   "id": "5ff1558c-e161-4e24-aaa6-93b4a990812f",
   "metadata": {},
   "source": [
    "#### Number of human protein-coding genes (tax_id = 9606)"
   ]
  },
  {
   "cell_type": "code",
   "execution_count": null,
   "id": "d5745f4a-242b-4b74-b423-9a7de1de9e78",
   "metadata": {},
   "outputs": [],
   "source": [
    "groups[groups[\"tax_id\"]  == \"9606\"]"
   ]
  },
  {
   "cell_type": "markdown",
   "id": "3842252d-2d7b-4065-bb38-9eaa79e7b112",
   "metadata": {},
   "source": [
    "#### Top 5 organisms with the most protein-coding genes"
   ]
  },
  {
   "cell_type": "code",
   "execution_count": null,
   "id": "afd038df-7f1d-4ac9-8cb3-459fea72ed27",
   "metadata": {},
   "outputs": [],
   "source": [
    "groups.head()"
   ]
  },
  {
   "cell_type": "code",
   "execution_count": null,
   "id": "38f1638f-45c2-4ea4-8e19-12a14aa29495",
   "metadata": {},
   "outputs": [],
   "source": [
    "end = time.time()"
   ]
  },
  {
   "cell_type": "code",
   "execution_count": null,
   "id": "9bc6627b-c0c9-4c92-8903-a515634a6fd4",
   "metadata": {},
   "outputs": [],
   "source": [
    "if n_cores > 0:\n",
    "    df = pd.DataFrame([{\"cores\": n_cores, \"time\": end-start, \"size\": file_size, \"format\": file_format, \"dataframe\": \"DaskCuda\"}])\n",
    "    output_file = f\"6-DaskCudaDataframe_{file_size}_{file_format}_{n_cores}.csv\"\n",
    "    df.to_csv(os.path.join(RESULTS_DIR, output_file), index=False)"
   ]
  },
  {
   "cell_type": "code",
   "execution_count": null,
   "id": "f07ba539-a1df-4215-b1e7-f94037554fe8",
   "metadata": {},
   "outputs": [],
   "source": [
    "print(f\"Dask-cuDF: {end - start:.1f} sec.\")"
   ]
  }
 ],
 "metadata": {
  "kernelspec": {
   "display_name": "Python 3 (ipykernel)",
   "language": "python",
   "name": "python3"
  },
  "language_info": {
   "codemirror_mode": {
    "name": "ipython",
    "version": 3
   },
   "file_extension": ".py",
   "mimetype": "text/x-python",
   "name": "python",
   "nbconvert_exporter": "python",
   "pygments_lexer": "ipython3",
   "version": "3.9.13"
  }
 },
 "nbformat": 4,
 "nbformat_minor": 5
}
