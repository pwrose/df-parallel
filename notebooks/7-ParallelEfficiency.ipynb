{
 "cells": [
  {
   "cell_type": "markdown",
   "id": "5718f8f9-adf3-4376-a7b4-d09c9706ad96",
   "metadata": {},
   "source": [
    "# 7-ParallelEfficiency\n",
    "This notebook evaluates the scaling with respect to the number of cores.\n",
    "\n",
    "Author: Peter W. Rose (pwrose@ucsd.edu)"
   ]
  },
  {
   "cell_type": "code",
   "execution_count": 1,
   "id": "adde6518-742b-42a6-923d-9f2a1ce7ef36",
   "metadata": {},
   "outputs": [],
   "source": [
    "import os\n",
    "import time\n",
    "import math\n",
    "import matplotlib\n",
    "import matplotlib.pyplot as plt\n",
    "import pandas as pd\n",
    "import ipywidgets as widgets\n",
    "import papermill as pm"
   ]
  },
  {
   "cell_type": "markdown",
   "id": "ee708ac8-ac06-4b09-b99f-0aacbeb2c23c",
   "metadata": {},
   "source": [
    "If LOCAL_SCRATCH_DIR environment variable is not set, this notebook accesses the ../data directory for temporary files."
   ]
  },
  {
   "cell_type": "code",
   "execution_count": 2,
   "id": "d3b8353c-b5de-4846-aa96-be5b2beef783",
   "metadata": {},
   "outputs": [],
   "source": [
    "DATA_DIR = os.getenv(\"LOCAL_SCRATCH_DIR\", default=\"../data\")\n",
    "filename = os.path.join(DATA_DIR, \"gene_info.tsv\")\n",
    "RESULTS_DIR = \"results\"\n",
    "os.makedirs(RESULTS_DIR, exist_ok=True)"
   ]
  },
  {
   "cell_type": "code",
   "execution_count": 3,
   "id": "0553ef66-3f81-41d5-b073-c73cc5d3ed51",
   "metadata": {},
   "outputs": [
    {
     "name": "stdout",
     "output_type": "stream",
     "text": [
      "Filename: ../data/gene_info.tsv\n",
      "Benchmark results directory: results\n"
     ]
    }
   ],
   "source": [
    "print(f\"Filename: {filename}\")\n",
    "print(f\"Benchmark results directory: {RESULTS_DIR}\")"
   ]
  },
  {
   "cell_type": "markdown",
   "id": "86f667e1-3bf5-4b79-a049-15afaa6214e9",
   "metadata": {},
   "source": [
    "### Setup Benchmark"
   ]
  },
  {
   "cell_type": "code",
   "execution_count": 4,
   "id": "10b79889-4677-4780-b98c-a1f3bef009bb",
   "metadata": {},
   "outputs": [],
   "source": [
    "# Number of cores to be used in the benchmark\n",
    "#cores = [1, 2, 4, 6, 8, 10]\n",
    "cores = [1, 2, 4]"
   ]
  },
  {
   "cell_type": "code",
   "execution_count": 5,
   "id": "b4ccf2fe-848f-4f7e-92f0-38fdee709dd4",
   "metadata": {
    "tags": []
   },
   "outputs": [],
   "source": [
    "style = {'description_width': \"initial\"}\n",
    "f_widget = widgets.RadioButtons(options=[\"csv\", \"parquet\"], description=\"Select input file format:\", value=\"csv\", style=style)\n",
    "d_widget = widgets.RadioButtons(options=[\"Dask\", \"Spark\", \"DaskCuda (GPU)\"], description=\"Select dataframe library:\", value=\"Dask\", style=style)"
   ]
  },
  {
   "cell_type": "code",
   "execution_count": 6,
   "id": "a4b10e16-3c86-48ec-ab7b-3aa733f91611",
   "metadata": {
    "tags": []
   },
   "outputs": [
    {
     "data": {
      "application/vnd.jupyter.widget-view+json": {
       "model_id": "e4f3bbd4343445ec9b61cf419f2508cb",
       "version_major": 2,
       "version_minor": 0
      },
      "text/plain": [
       "RadioButtons(description='Select input file format:', options=('csv', 'parquet'), style=DescriptionStyle(descr…"
      ]
     },
     "metadata": {},
     "output_type": "display_data"
    },
    {
     "data": {
      "application/vnd.jupyter.widget-view+json": {
       "model_id": "4e753c0709154c3295faf5009e10c12f",
       "version_major": 2,
       "version_minor": 0
      },
      "text/plain": [
       "RadioButtons(description='Select dataframe library:', options=('Dask', 'Spark', 'DaskCuda (GPU)'), style=Descr…"
      ]
     },
     "metadata": {},
     "output_type": "display_data"
    }
   ],
   "source": [
    "display(f_widget, d_widget)"
   ]
  },
  {
   "cell_type": "code",
   "execution_count": 7,
   "id": "f17ffabb-6481-41c3-8e93-08aa4a0c60ed",
   "metadata": {
    "tags": []
   },
   "outputs": [],
   "source": [
    "file_format = f_widget.value\n",
    "dataframe = d_widget.value\n",
    "df_libraries = {\"Dask\": \"3-DaskDataframe.ipynb\", \"Spark\": \"4-SparkDataframe.ipynb\", \"DaskCuda (GPU)\": \"6-DaskDudaDataframe\"}\n",
    "notebook = df_libraries.get(dataframe)"
   ]
  },
  {
   "cell_type": "code",
   "execution_count": 8,
   "id": "e793c245-ddb3-4a9d-aa7e-476b00acd24a",
   "metadata": {},
   "outputs": [
    {
     "name": "stdout",
     "output_type": "stream",
     "text": [
      "File format: csv\n",
      "Dataframe  : Dask\n",
      "Notebook   : 3-DaskDataframe.ipynb\n"
     ]
    }
   ],
   "source": [
    "print(f\"File format: {file_format}\")\n",
    "print(f\"Dataframe  : {dataframe}\")\n",
    "print(f\"Notebook   : {notebook}\")"
   ]
  },
  {
   "cell_type": "markdown",
   "id": "c3346503-f152-44bf-bc38-d0464df3d0b5",
   "metadata": {},
   "source": [
    "### Run Benchmark"
   ]
  },
  {
   "cell_type": "code",
   "execution_count": 9,
   "id": "57269650-141b-493c-a6bb-29ae5980aee0",
   "metadata": {
    "tags": []
   },
   "outputs": [
    {
     "data": {
      "application/vnd.jupyter.widget-view+json": {
       "model_id": "004baa49c8844f459612b55991002c8b",
       "version_major": 2,
       "version_minor": 0
      },
      "text/plain": [
       "Executing:   0%|          | 0/23 [00:00<?, ?cell/s]"
      ]
     },
     "metadata": {},
     "output_type": "display_data"
    },
    {
     "name": "stdout",
     "output_type": "stream",
     "text": [
      "cores: 1 time: 114.3 s\n"
     ]
    },
    {
     "data": {
      "application/vnd.jupyter.widget-view+json": {
       "model_id": "b8cdb90402724e71b0867c9ee1ed4eef",
       "version_major": 2,
       "version_minor": 0
      },
      "text/plain": [
       "Executing:   0%|          | 0/23 [00:00<?, ?cell/s]"
      ]
     },
     "metadata": {},
     "output_type": "display_data"
    },
    {
     "name": "stdout",
     "output_type": "stream",
     "text": [
      "cores: 2 time: 65.2 s\n"
     ]
    },
    {
     "data": {
      "application/vnd.jupyter.widget-view+json": {
       "model_id": "e7844962e3934fc58f55acd40e17ab29",
       "version_major": 2,
       "version_minor": 0
      },
      "text/plain": [
       "Executing:   0%|          | 0/23 [00:00<?, ?cell/s]"
      ]
     },
     "metadata": {},
     "output_type": "display_data"
    },
    {
     "name": "stdout",
     "output_type": "stream",
     "text": [
      "cores: 4 time: 47.6 s\n"
     ]
    }
   ],
   "source": [
    "timing = []\n",
    "for n_cores in cores:\n",
    "    start = time.time()\n",
    "    \n",
    "    name, _ = os.path.splitext(notebook)\n",
    "    notebook_out = os.path.join(RESULTS_DIR, f\"{name}_{file_format}_{n_cores}.ipynb\")\n",
    "    pm.execute_notebook(notebook, notebook_out, parameters={\"n_cores\": n_cores, \"file_format\": file_format})\n",
    "       \n",
    "    end = time.time()\n",
    "    \n",
    "    print(f\"cores: {n_cores} time: {end-start:.1f} s\")\n",
    "    timing.append({\"cores\": n_cores, \"time\": end-start})"
   ]
  },
  {
   "cell_type": "code",
   "execution_count": 10,
   "id": "65961590-d3cf-4253-96c7-2e06af8b6f3c",
   "metadata": {},
   "outputs": [
    {
     "data": {
      "text/html": [
       "<div>\n",
       "<style scoped>\n",
       "    .dataframe tbody tr th:only-of-type {\n",
       "        vertical-align: middle;\n",
       "    }\n",
       "\n",
       "    .dataframe tbody tr th {\n",
       "        vertical-align: top;\n",
       "    }\n",
       "\n",
       "    .dataframe thead th {\n",
       "        text-align: right;\n",
       "    }\n",
       "</style>\n",
       "<table border=\"1\" class=\"dataframe\">\n",
       "  <thead>\n",
       "    <tr style=\"text-align: right;\">\n",
       "      <th></th>\n",
       "      <th>cores</th>\n",
       "      <th>time</th>\n",
       "      <th>efficiency</th>\n",
       "    </tr>\n",
       "  </thead>\n",
       "  <tbody>\n",
       "    <tr>\n",
       "      <th>0</th>\n",
       "      <td>1</td>\n",
       "      <td>114.310296</td>\n",
       "      <td>1.000000</td>\n",
       "    </tr>\n",
       "    <tr>\n",
       "      <th>1</th>\n",
       "      <td>2</td>\n",
       "      <td>65.151340</td>\n",
       "      <td>0.877267</td>\n",
       "    </tr>\n",
       "    <tr>\n",
       "      <th>2</th>\n",
       "      <td>4</td>\n",
       "      <td>47.559137</td>\n",
       "      <td>0.600885</td>\n",
       "    </tr>\n",
       "  </tbody>\n",
       "</table>\n",
       "</div>"
      ],
      "text/plain": [
       "   cores        time  efficiency\n",
       "0      1  114.310296    1.000000\n",
       "1      2   65.151340    0.877267\n",
       "2      4   47.559137    0.600885"
      ]
     },
     "execution_count": 10,
     "metadata": {},
     "output_type": "execute_result"
    }
   ],
   "source": [
    "df = pd.DataFrame(timing)\n",
    "df[\"efficiency\"] = df[\"time\"].iloc[0] / (df[\"time\"] * df[\"cores\"])\n",
    "df"
   ]
  },
  {
   "cell_type": "markdown",
   "id": "74ac6b21-4272-4365-b9be-4ed154db6e3c",
   "metadata": {},
   "source": [
    "### Plot Runtime as Function of Cores"
   ]
  },
  {
   "cell_type": "code",
   "execution_count": 11,
   "id": "94b3070d-aaab-471e-a50b-81edade8ad28",
   "metadata": {},
   "outputs": [
    {
     "data": {
      "image/png": "[encoded data removed]",
      "text/plain": [
       "<Figure size 936x576 with 1 Axes>"
      ]
     },
     "metadata": {
      "needs_background": "light"
     },
     "output_type": "display_data"
    }
   ],
   "source": [
    "fig, ax = plt.subplots(figsize=(13, 8))\n",
    "ax.loglog()\n",
    "for axis in [ax.xaxis, ax.yaxis]:\n",
    "    formatter = matplotlib.ticker.FormatStrFormatter(\"%d\")\n",
    "    axis.set_major_formatter(formatter)\n",
    "    axis.set_minor_formatter(formatter)\n",
    "ax.grid(visible=True, which='major', linewidth=2)\n",
    "ax.grid(visible=True, which='minor')\n",
    "plt.title(f\"Log-Log Scaling plot for {dataframe} ({file_format})\", fontsize=20)\n",
    "plt.xlabel(\"Cores\", fontsize=16)\n",
    "plt.ylabel(\"Time [s]\", fontsize=16)\n",
    "plt.xlim([1, n_cores])\n",
    "plt.plot(df[\"cores\"].values, df[\"time\"].values, 'ro-')\n",
    "\n",
    "plt.savefig(os.path.join(\"results\",f\"{dataframe}_scaling.png\"), dpi=300)\n",
    "plt.show()"
   ]
  },
  {
   "cell_type": "markdown",
   "id": "f9bb722b-eaca-4280-adca-c4ebe68de8b9",
   "metadata": {},
   "source": [
    "### Plot Parallel Efficiency as Function of Cores"
   ]
  },
  {
   "cell_type": "code",
   "execution_count": 12,
   "id": "72819ffd-c428-4830-ad29-a177e5ce1481",
   "metadata": {},
   "outputs": [
    {
     "data": {
      "image/png": "[encoded data removed]",
      "text/plain": [
       "<Figure size 936x576 with 1 Axes>"
      ]
     },
     "metadata": {
      "needs_background": "light"
     },
     "output_type": "display_data"
    }
   ],
   "source": [
    "fig, ax = plt.subplots(figsize=(13, 8))\n",
    "ax.set_xscale('log')\n",
    "formatter = matplotlib.ticker.FormatStrFormatter(\"%d\")\n",
    "ax.xaxis.set_major_formatter(formatter)\n",
    "ax.xaxis.set_minor_formatter(formatter)\n",
    "ax.xaxis.set_major_locator(matplotlib.ticker.MaxNLocator(integer=True))\n",
    "                                                         \n",
    "plt.title(f\"Parallel Efficiency for {dataframe} ({file_format})\", fontsize=20)\n",
    "plt.xlabel(\"Cores\", fontsize=16)\n",
    "plt.ylabel(\"Efficiency\", fontsize=16)\n",
    "plt.xlim([1, n_cores])\n",
    "plt.plot(df[\"cores\"].values, df[\"efficiency\"].values, 'ro-')\n",
    "\n",
    "plt.savefig(os.path.join(\"results\", f\"{dataframe}_efficiency.png\"), dpi=300)\n",
    "plt.show()"
   ]
  },
  {
   "cell_type": "code",
   "execution_count": null,
   "id": "125b25e7-ea5b-4826-9298-a3082e5acb4b",
   "metadata": {},
   "outputs": [],
   "source": []
  },
  {
   "cell_type": "code",
   "execution_count": null,
   "id": "53996ffb-3bee-442e-b335-de813775454a",
   "metadata": {},
   "outputs": [],
   "source": []
  }
 ],
 "metadata": {
  "kernelspec": {
   "display_name": "Python 3 (ipykernel)",
   "language": "python",
   "name": "python3"
  },
  "language_info": {
   "codemirror_mode": {
    "name": "ipython",
    "version": 3
   },
   "file_extension": ".py",
   "mimetype": "text/x-python",
   "name": "python",
   "nbconvert_exporter": "python",
   "pygments_lexer": "ipython3",
   "version": "3.8.13"
  }
 },
 "nbformat": 4,
 "nbformat_minor": 5
}
