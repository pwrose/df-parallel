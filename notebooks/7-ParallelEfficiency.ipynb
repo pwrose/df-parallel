{
 "cells": [
  {
   "cell_type": "markdown",
   "id": "5718f8f9-adf3-4376-a7b4-d09c9706ad96",
   "metadata": {},
   "source": [
    "# 7-ParallelEfficiency\n",
    "This notebook evaluates the scaling of Dask, Spark, and DaskCuda dataframe libraries with respect to the number of cores and the file format of the data file ([csv](https://en.wikipedia.org/wiki/Comma-separated_values). vs. [parquet](https://parquet.apache.org/)). The executed notebooks with output and plots are saved in the [results directory](results). Note: this is not a representative comparison of these dataframe libraries.\n",
    "\n",
    "See Robert Sinkovits' [Parallel Computing Concepts](https://github.com/sdsc/sdsc-summer-institute-2022/tree/main/2.1_parallel_computing_concepts) for background.\n",
    "\n",
    "Author: Peter W. Rose (pwrose@ucsd.edu)"
   ]
  },
  {
   "cell_type": "code",
   "execution_count": 1,
   "id": "adde6518-742b-42a6-923d-9f2a1ce7ef36",
   "metadata": {
    "tags": []
   },
   "outputs": [],
   "source": [
    "import os\n",
    "import time\n",
    "import math\n",
    "import pandas as pd\n",
    "import ipywidgets as widgets\n",
    "import papermill as pm\n",
    "import matplotlib\n",
    "import matplotlib.pyplot as plt\n",
    "%matplotlib inline"
   ]
  },
  {
   "cell_type": "markdown",
   "id": "ee708ac8-ac06-4b09-b99f-0aacbeb2c23c",
   "metadata": {
    "tags": []
   },
   "source": [
    "If LOCAL_SCRATCH_DIR environment variable is not set, this notebook accesses the ../data directory for temporary files."
   ]
  },
  {
   "cell_type": "code",
   "execution_count": 2,
   "id": "d3b8353c-b5de-4846-aa96-be5b2beef783",
   "metadata": {
    "tags": []
   },
   "outputs": [],
   "source": [
    "DATA_DIR = os.getenv(\"LOCAL_SCRATCH_DIR\", default=\"../data\")\n",
    "filename = os.path.join(DATA_DIR, \"gene_info.tsv\")\n",
    "RESULTS_DIR = \"results\"\n",
    "os.makedirs(RESULTS_DIR, exist_ok=True)"
   ]
  },
  {
   "cell_type": "code",
   "execution_count": 3,
   "id": "0553ef66-3f81-41d5-b073-c73cc5d3ed51",
   "metadata": {
    "tags": []
   },
   "outputs": [
    {
     "name": "stdout",
     "output_type": "stream",
     "text": [
      "Filename: ../data/gene_info.tsv\n",
      "File Size: 5.4 GB\n",
      "Benchmark results directory: results\n"
     ]
    }
   ],
   "source": [
    "print(f\"Filename: {filename}\")\n",
    "file_size = os.path.getsize(filename)\n",
    "print(f\"File Size: {file_size/1E9:.1f} GB\")\n",
    "print(f\"Benchmark results directory: {RESULTS_DIR}\")"
   ]
  },
  {
   "cell_type": "markdown",
   "id": "86f667e1-3bf5-4b79-a049-15afaa6214e9",
   "metadata": {},
   "source": [
    "### Setup Benchmark"
   ]
  },
  {
   "cell_type": "markdown",
   "id": "0e6be895-1e26-408c-a07f-4ebea133bba3",
   "metadata": {},
   "source": [
    "#### Specify the number of cores to be used for benchmarking"
   ]
  },
  {
   "cell_type": "code",
   "execution_count": 4,
   "id": "10b79889-4677-4780-b98c-a1f3bef009bb",
   "metadata": {},
   "outputs": [],
   "source": [
    "cores = [1, 2, 4, 8]"
   ]
  },
  {
   "cell_type": "code",
   "execution_count": 5,
   "id": "b4ccf2fe-848f-4f7e-92f0-38fdee709dd4",
   "metadata": {
    "jupyter": {
     "source_hidden": true
    },
    "tags": []
   },
   "outputs": [],
   "source": [
    "style = {'description_width': \"initial\"}\n",
    "f_widget = widgets.RadioButtons(options=[\"csv\", \"parquet\"], description=\"Select input file format:\", value=\"csv\", style=style)\n",
    "d_widget = widgets.RadioButtons(options=[\"Dask\", \"Spark\", \"DaskCuda (GPU)\"], description=\"Select dataframe library:\", value=\"Dask\", style=style)"
   ]
  },
  {
   "cell_type": "markdown",
   "id": "68377118-119d-42b5-8988-f101b609cdca",
   "metadata": {},
   "source": [
    "#### Select input format and dataframe library"
   ]
  },
  {
   "cell_type": "code",
   "execution_count": 6,
   "id": "a4b10e16-3c86-48ec-ab7b-3aa733f91611",
   "metadata": {
    "tags": []
   },
   "outputs": [
    {
     "data": {
      "application/vnd.jupyter.widget-view+json": {
       "model_id": "3241d7765df243dfb5ef51e988c7084c",
       "version_major": 2,
       "version_minor": 0
      },
      "text/plain": [
       "RadioButtons(description='Select input file format:', options=('csv', 'parquet'), style=DescriptionStyle(descr…"
      ]
     },
     "metadata": {},
     "output_type": "display_data"
    },
    {
     "data": {
      "application/vnd.jupyter.widget-view+json": {
       "model_id": "5f27936051e6454ca5ec1b2f7e3c1baf",
       "version_major": 2,
       "version_minor": 0
      },
      "text/plain": [
       "RadioButtons(description='Select dataframe library:', options=('Dask', 'Spark', 'DaskCuda (GPU)'), style=Descr…"
      ]
     },
     "metadata": {},
     "output_type": "display_data"
    }
   ],
   "source": [
    "display(f_widget, d_widget)"
   ]
  },
  {
   "cell_type": "code",
   "execution_count": 7,
   "id": "f17ffabb-6481-41c3-8e93-08aa4a0c60ed",
   "metadata": {
    "tags": []
   },
   "outputs": [],
   "source": [
    "file_format = f_widget.value\n",
    "dataframe = d_widget.value\n",
    "df_libraries = {\"Dask\": \"3-DaskDataframe.ipynb\", \"Spark\": \"4-SparkDataframe.ipynb\", \"DaskCuda (GPU)\": \"6-DaskCudaDataframe.ipynb\"}\n",
    "notebook = df_libraries.get(dataframe)\n",
    "notebook_name = name, _ = os.path.splitext(notebook)"
   ]
  },
  {
   "cell_type": "code",
   "execution_count": 8,
   "id": "e793c245-ddb3-4a9d-aa7e-476b00acd24a",
   "metadata": {
    "tags": []
   },
   "outputs": [
    {
     "name": "stdout",
     "output_type": "stream",
     "text": [
      "File format: csv\n",
      "Dataframe  : Dask\n",
      "Notebook   : 3-DaskDataframe.ipynb\n"
     ]
    }
   ],
   "source": [
    "print(f\"File format: {file_format}\")\n",
    "print(f\"Dataframe  : {dataframe}\")\n",
    "print(f\"Notebook   : {notebook}\")"
   ]
  },
  {
   "cell_type": "markdown",
   "id": "c3346503-f152-44bf-bc38-d0464df3d0b5",
   "metadata": {},
   "source": [
    "### Run Benchmark\n",
    "This benchmark runs Jupyter Notebooks with two input parameters: the number of ```cores``` and the ```file format`` of the input file. It uses [papermill](https://papermill.readthedocs.io/en/latest/) to execute the notebooks non-interactively. The executed notebooks with output and plots are saved in the [results directory](results)."
   ]
  },
  {
   "cell_type": "code",
   "execution_count": 9,
   "id": "57269650-141b-493c-a6bb-29ae5980aee0",
   "metadata": {
    "tags": []
   },
   "outputs": [
    {
     "data": {
      "application/vnd.jupyter.widget-view+json": {
       "model_id": "4a5f97e588f045b491f735781e90cf26",
       "version_major": 2,
       "version_minor": 0
      },
      "text/plain": [
       "Executing:   0%|          | 0/28 [00:00<?, ?cell/s]"
      ]
     },
     "metadata": {},
     "output_type": "display_data"
    },
    {
     "name": "stdout",
     "output_type": "stream",
     "text": [
      "cores: 1 time: 82.9 s\n"
     ]
    },
    {
     "data": {
      "application/vnd.jupyter.widget-view+json": {
       "model_id": "79267fe73a934721b60b6efa2c4f91d3",
       "version_major": 2,
       "version_minor": 0
      },
      "text/plain": [
       "Executing:   0%|          | 0/28 [00:00<?, ?cell/s]"
      ]
     },
     "metadata": {},
     "output_type": "display_data"
    },
    {
     "name": "stdout",
     "output_type": "stream",
     "text": [
      "cores: 2 time: 51.4 s\n"
     ]
    },
    {
     "data": {
      "application/vnd.jupyter.widget-view+json": {
       "model_id": "325e1d90288c469193a6c7862690ef0d",
       "version_major": 2,
       "version_minor": 0
      },
      "text/plain": [
       "Executing:   0%|          | 0/28 [00:00<?, ?cell/s]"
      ]
     },
     "metadata": {},
     "output_type": "display_data"
    },
    {
     "name": "stdout",
     "output_type": "stream",
     "text": [
      "cores: 4 time: 41.4 s\n"
     ]
    },
    {
     "data": {
      "application/vnd.jupyter.widget-view+json": {
       "model_id": "96602b97ac7545c99303f3aec16bd4c8",
       "version_major": 2,
       "version_minor": 0
      },
      "text/plain": [
       "Executing:   0%|          | 0/28 [00:00<?, ?cell/s]"
      ]
     },
     "metadata": {},
     "output_type": "display_data"
    },
    {
     "name": "stdout",
     "output_type": "stream",
     "text": [
      "cores: 8 time: 39.5 s\n"
     ]
    }
   ],
   "source": [
    "timing = []\n",
    "for n_cores in cores:\n",
    "    start = time.time()\n",
    "\n",
    "    notebook_out = os.path.join(RESULTS_DIR, f\"{notebook_name}_{file_format}_{n_cores}.ipynb\")\n",
    "    \n",
    "    pm.execute_notebook(notebook, notebook_out, parameters={\"n_cores\": n_cores, \"file_format\": file_format})\n",
    "       \n",
    "    end = time.time()\n",
    "    \n",
    "    print(f\"cores: {n_cores} time: {end-start:.1f} s\")\n",
    "    timing.append({\"cores\": n_cores, \"time\": end-start})"
   ]
  },
  {
   "cell_type": "code",
   "execution_count": 10,
   "id": "65961590-d3cf-4253-96c7-2e06af8b6f3c",
   "metadata": {
    "jupyter": {
     "source_hidden": true
    },
    "tags": []
   },
   "outputs": [
    {
     "data": {
      "text/html": [
       "<div>\n",
       "<style scoped>\n",
       "    .dataframe tbody tr th:only-of-type {\n",
       "        vertical-align: middle;\n",
       "    }\n",
       "\n",
       "    .dataframe tbody tr th {\n",
       "        vertical-align: top;\n",
       "    }\n",
       "\n",
       "    .dataframe thead th {\n",
       "        text-align: right;\n",
       "    }\n",
       "</style>\n",
       "<table border=\"1\" class=\"dataframe\">\n",
       "  <thead>\n",
       "    <tr style=\"text-align: right;\">\n",
       "      <th></th>\n",
       "      <th>cores</th>\n",
       "      <th>time</th>\n",
       "      <th>efficiency</th>\n",
       "      <th>linear</th>\n",
       "    </tr>\n",
       "  </thead>\n",
       "  <tbody>\n",
       "    <tr>\n",
       "      <th>0</th>\n",
       "      <td>1</td>\n",
       "      <td>82.864310</td>\n",
       "      <td>1.000000</td>\n",
       "      <td>82.864310</td>\n",
       "    </tr>\n",
       "    <tr>\n",
       "      <th>1</th>\n",
       "      <td>2</td>\n",
       "      <td>51.410086</td>\n",
       "      <td>0.805915</td>\n",
       "      <td>41.432155</td>\n",
       "    </tr>\n",
       "    <tr>\n",
       "      <th>2</th>\n",
       "      <td>4</td>\n",
       "      <td>41.380103</td>\n",
       "      <td>0.500629</td>\n",
       "      <td>20.716078</td>\n",
       "    </tr>\n",
       "    <tr>\n",
       "      <th>3</th>\n",
       "      <td>8</td>\n",
       "      <td>39.526411</td>\n",
       "      <td>0.262054</td>\n",
       "      <td>10.358039</td>\n",
       "    </tr>\n",
       "  </tbody>\n",
       "</table>\n",
       "</div>"
      ],
      "text/plain": [
       "   cores       time  efficiency     linear\n",
       "0      1  82.864310    1.000000  82.864310\n",
       "1      2  51.410086    0.805915  41.432155\n",
       "2      4  41.380103    0.500629  20.716078\n",
       "3      8  39.526411    0.262054  10.358039"
      ]
     },
     "execution_count": 10,
     "metadata": {},
     "output_type": "execute_result"
    }
   ],
   "source": [
    "df = pd.DataFrame(timing)\n",
    "df[\"efficiency\"] = df[\"time\"].iloc[0] / (df[\"time\"] * df[\"cores\"])\n",
    "df[\"linear\"] = df[\"time\"].iloc[0] / df[\"cores\"]\n",
    "df"
   ]
  },
  {
   "cell_type": "markdown",
   "id": "f9bb722b-eaca-4280-adca-c4ebe68de8b9",
   "metadata": {},
   "source": [
    "### Runtime and Parallel Efficiency as Function of Number of Cores"
   ]
  },
  {
   "cell_type": "code",
   "execution_count": 11,
   "id": "262f8d1d-1edc-44fe-a48e-b8bdc082617a",
   "metadata": {
    "jupyter": {
     "source_hidden": true
    },
    "tags": []
   },
   "outputs": [
    {
     "data": {
      "image/png": "[encoded data removed]",
      "text/plain": [
       "<Figure size 648x432 with 2 Axes>"
      ]
     },
     "metadata": {
      "needs_background": "light"
     },
     "output_type": "display_data"
    }
   ],
   "source": [
    "fig, ax = plt.subplots(figsize=(9, 6))\n",
    "ax.loglog()\n",
    "for axis in [ax.xaxis, ax.yaxis]:\n",
    "    formatter = matplotlib.ticker.FormatStrFormatter(\"%d\")\n",
    "    axis.set_major_formatter(formatter)\n",
    "    axis.set_minor_formatter(formatter)\n",
    "ax.grid(visible=True, which='major', linewidth=2)\n",
    "ax.grid(visible=True, which='minor')\n",
    "plt.title(f\"Log-Log Scaling Plot for {dataframe} ({file_format})\", fontsize=18)\n",
    "plt.xlabel(\"Cores\", fontsize=14)\n",
    "plt.ylabel(\"Time [s]\", fontsize=14, color='r')\n",
    "plt.xlim([1, n_cores])\n",
    "plt.plot(df[\"cores\"].values, df[\"time\"].values, 'ro-', label='Time')\n",
    "ax.plot(df[\"cores\"].values, df[\"linear\"].values, 'k', label='linear')\n",
    "\n",
    "ax2 = ax.twinx()\n",
    "ax2.set_ylabel('Parallel efficiency', fontsize=16, color='b')\n",
    "ax2.set_ylim(0, 1.05)\n",
    "ax2.plot(df[\"cores\"].values, df[\"efficiency\"].values, 'bx-', label='Parallel efficiency')\n",
    "\n",
    "ax.legend(loc='upper left', bbox_to_anchor=(0.04, 0.1, 0.1, 0.1), frameon=False)\n",
    "ax2.legend(loc='upper left', bbox_to_anchor=(0.04, 0.15, 0.1, 0.1), frameon=False)\n",
    "\n",
    "\n",
    "plt.savefig(os.path.join(\"results\",f\"{dataframe}_scaling.png\"), dpi=300)\n",
    "plt.show()"
   ]
  },
  {
   "cell_type": "markdown",
   "id": "610074b3-e616-471a-864d-be999f7a282e",
   "metadata": {},
   "source": [
    "* Time: observed runtime\n",
    "* linear: expected runtime for perfect scaling\n",
    "* Parallel efficiency: measure of resource utilization for parallel processing\n",
    "\n",
    "For perfect scaling the observed runtime would match the linear black line and the parallel efficiency would be 1.0.\n"
   ]
  },
  {
   "cell_type": "code",
   "execution_count": null,
   "id": "3b38613c-d1fd-4676-a128-634f9994cd92",
   "metadata": {},
   "outputs": [],
   "source": []
  }
 ],
 "metadata": {
  "kernelspec": {
   "display_name": "Python 3 (ipykernel)",
   "language": "python",
   "name": "python3"
  },
  "language_info": {
   "codemirror_mode": {
    "name": "ipython",
    "version": 3
   },
   "file_extension": ".py",
   "mimetype": "text/x-python",
   "name": "python",
   "nbconvert_exporter": "python",
   "pygments_lexer": "ipython3",
   "version": "3.9.13"
  }
 },
 "nbformat": 4,
 "nbformat_minor": 5
}
