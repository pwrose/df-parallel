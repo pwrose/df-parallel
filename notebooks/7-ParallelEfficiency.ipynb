{
 "cells": [
  {
   "cell_type": "markdown",
   "id": "5718f8f9-adf3-4376-a7b4-d09c9706ad96",
   "metadata": {},
   "source": [
    "# 7-ParallelEfficiency\n",
    "This notebook evaluates the scaling with respect to the number of cores.\n",
    "\n",
    "Author: Peter W. Rose (pwrose@ucsd.edu)"
   ]
  },
  {
   "cell_type": "code",
   "execution_count": 1,
   "id": "adde6518-742b-42a6-923d-9f2a1ce7ef36",
   "metadata": {},
   "outputs": [],
   "source": [
    "import os\n",
    "import time\n",
    "import math\n",
    "import matplotlib\n",
    "import matplotlib.pyplot as plt\n",
    "import pandas as pd\n",
    "import papermill as pm"
   ]
  },
  {
   "cell_type": "markdown",
   "id": "ee708ac8-ac06-4b09-b99f-0aacbeb2c23c",
   "metadata": {},
   "source": [
    "If LOCAL_SCRATCH_DIR environment variable is not set, this notebook accesses the ../data directory for temporary files."
   ]
  },
  {
   "cell_type": "code",
   "execution_count": 2,
   "id": "d3b8353c-b5de-4846-aa96-be5b2beef783",
   "metadata": {},
   "outputs": [
    {
     "name": "stdout",
     "output_type": "stream",
     "text": [
      "Filename: ../data/gene_info.tsv\n"
     ]
    }
   ],
   "source": [
    "DATA_DIR = os.getenv(\"LOCAL_SCRATCH_DIR\", default=\"../data\")\n",
    "filename = os.path.join(DATA_DIR, \"gene_info.tsv\")\n",
    "print(\"Filename:\", filename)"
   ]
  },
  {
   "cell_type": "code",
   "execution_count": 3,
   "id": "0553ef66-3f81-41d5-b073-c73cc5d3ed51",
   "metadata": {},
   "outputs": [],
   "source": [
    "RESULTS_DIR = \"results\"\n",
    "os.makedirs(RESULTS_DIR, exist_ok=True)"
   ]
  },
  {
   "cell_type": "markdown",
   "id": "86f667e1-3bf5-4b79-a049-15afaa6214e9",
   "metadata": {},
   "source": [
    "### Specify Number of Cores for Benchmark"
   ]
  },
  {
   "cell_type": "code",
   "execution_count": 4,
   "id": "10b79889-4677-4780-b98c-a1f3bef009bb",
   "metadata": {},
   "outputs": [],
   "source": [
    "n_cores = 4"
   ]
  },
  {
   "cell_type": "code",
   "execution_count": 5,
   "id": "a7276bf2-742a-4103-8b76-8adaf9ae13ee",
   "metadata": {},
   "outputs": [
    {
     "name": "stdout",
     "output_type": "stream",
     "text": [
      "[1, 2, 4]\n"
     ]
    }
   ],
   "source": [
    "n = round(math.log(n_cores, 2))\n",
    "cores = [2**i for i in range(n+1)]\n",
    "print(cores)"
   ]
  },
  {
   "cell_type": "markdown",
   "id": "b4c6b93c-f71e-4b4e-8df0-2553e0d52b12",
   "metadata": {},
   "source": [
    "### Run Benchmark\n",
    "Results are saved in the results directory."
   ]
  },
  {
   "cell_type": "code",
   "execution_count": 6,
   "id": "57269650-141b-493c-a6bb-29ae5980aee0",
   "metadata": {
    "tags": []
   },
   "outputs": [
    {
     "name": "stderr",
     "output_type": "stream",
     "text": [
      "/Users/Peter/miniconda3/envs/df-parallel/lib/python3.8/site-packages/tqdm/auto.py:22: TqdmWarning: IProgress not found. Please update jupyter and ipywidgets. See https://ipywidgets.readthedocs.io/en/stable/user_install.html\n",
      "  from .autonotebook import tqdm as notebook_tqdm\n",
      "Executing:   5%|█▍                             | 1/22 [00:01<00:31,  1.50s/cell]Setting default log level to \"WARN\".\n",
      "To adjust logging level use sc.setLogLevel(newLevel). For SparkR, use setLogLevel(newLevel).\n",
      "Executing: 100%|██████████████████████████████| 22/22 [01:43<00:00,  4.72s/cell]\n"
     ]
    },
    {
     "name": "stdout",
     "output_type": "stream",
     "text": [
      "Cores: 1, 104.0259621143341 s\n"
     ]
    },
    {
     "name": "stderr",
     "output_type": "stream",
     "text": [
      "Executing:   5%|█▍                             | 1/22 [00:01<00:39,  1.87s/cell]Setting default log level to \"WARN\".\n",
      "To adjust logging level use sc.setLogLevel(newLevel). For SparkR, use setLogLevel(newLevel).\n",
      "Executing: 100%|██████████████████████████████| 22/22 [01:12<00:00,  3.31s/cell]\n"
     ]
    },
    {
     "name": "stdout",
     "output_type": "stream",
     "text": [
      "Cores: 2, 72.9477288722992 s\n"
     ]
    },
    {
     "name": "stderr",
     "output_type": "stream",
     "text": [
      "Executing:   5%|█▍                             | 1/22 [00:01<00:38,  1.84s/cell]Setting default log level to \"WARN\".\n",
      "To adjust logging level use sc.setLogLevel(newLevel). For SparkR, use setLogLevel(newLevel).\n",
      "Executing: 100%|██████████████████████████████| 22/22 [00:55<00:00,  2.51s/cell]"
     ]
    },
    {
     "name": "stdout",
     "output_type": "stream",
     "text": [
      "Cores: 4, 55.17423176765442 s\n"
     ]
    },
    {
     "name": "stderr",
     "output_type": "stream",
     "text": [
      "\n"
     ]
    }
   ],
   "source": [
    "timing = []\n",
    "for n_cores in cores:\n",
    "    start = time.time()\n",
    "    \n",
    "    pm.execute_notebook(\"4-SparkDataframe.ipynb\", f\"results/4-SparkDataframe_{n_cores}.ipynb\", parameters={\"n_cores\": n_cores})\n",
    "       \n",
    "    end = time.time()\n",
    "    print(f\"Cores: {n_cores}, {end-start} s\")\n",
    "    timing.append({\"cores\": n_cores, \"time\": end-start})"
   ]
  },
  {
   "cell_type": "code",
   "execution_count": 7,
   "id": "65961590-d3cf-4253-96c7-2e06af8b6f3c",
   "metadata": {},
   "outputs": [],
   "source": [
    "df = pd.DataFrame(timing)"
   ]
  },
  {
   "cell_type": "code",
   "execution_count": 8,
   "id": "6e79a88e-fbfd-483c-ba5b-e6c28b16ab68",
   "metadata": {},
   "outputs": [],
   "source": [
    "df[\"efficiency\"] = df[\"time\"].iloc[0] / (df[\"time\"] * df[\"cores\"])"
   ]
  },
  {
   "cell_type": "code",
   "execution_count": 9,
   "id": "043cdbc4-f440-4fa6-ad2d-9339cd134d2b",
   "metadata": {},
   "outputs": [
    {
     "data": {
      "text/html": [
       "<div>\n",
       "<style scoped>\n",
       "    .dataframe tbody tr th:only-of-type {\n",
       "        vertical-align: middle;\n",
       "    }\n",
       "\n",
       "    .dataframe tbody tr th {\n",
       "        vertical-align: top;\n",
       "    }\n",
       "\n",
       "    .dataframe thead th {\n",
       "        text-align: right;\n",
       "    }\n",
       "</style>\n",
       "<table border=\"1\" class=\"dataframe\">\n",
       "  <thead>\n",
       "    <tr style=\"text-align: right;\">\n",
       "      <th></th>\n",
       "      <th>cores</th>\n",
       "      <th>time</th>\n",
       "      <th>efficiency</th>\n",
       "    </tr>\n",
       "  </thead>\n",
       "  <tbody>\n",
       "    <tr>\n",
       "      <th>0</th>\n",
       "      <td>1</td>\n",
       "      <td>104.025962</td>\n",
       "      <td>1.000000</td>\n",
       "    </tr>\n",
       "    <tr>\n",
       "      <th>1</th>\n",
       "      <td>2</td>\n",
       "      <td>72.947729</td>\n",
       "      <td>0.713017</td>\n",
       "    </tr>\n",
       "    <tr>\n",
       "      <th>2</th>\n",
       "      <td>4</td>\n",
       "      <td>55.174232</td>\n",
       "      <td>0.471352</td>\n",
       "    </tr>\n",
       "  </tbody>\n",
       "</table>\n",
       "</div>"
      ],
      "text/plain": [
       "   cores        time  efficiency\n",
       "0      1  104.025962    1.000000\n",
       "1      2   72.947729    0.713017\n",
       "2      4   55.174232    0.471352"
      ]
     },
     "execution_count": 9,
     "metadata": {},
     "output_type": "execute_result"
    }
   ],
   "source": [
    "df"
   ]
  },
  {
   "cell_type": "markdown",
   "id": "74ac6b21-4272-4365-b9be-4ed154db6e3c",
   "metadata": {},
   "source": [
    "### Plot Runtime as Function of Cores"
   ]
  },
  {
   "cell_type": "code",
   "execution_count": 14,
   "id": "94b3070d-aaab-471e-a50b-81edade8ad28",
   "metadata": {},
   "outputs": [
    {
     "data": {
      "image/png": "[encoded data removed]",
      "text/plain": [
       "<Figure size 936x576 with 1 Axes>"
      ]
     },
     "metadata": {
      "needs_background": "light"
     },
     "output_type": "display_data"
    }
   ],
   "source": [
    "fig, ax = plt.subplots(figsize=(13, 8))\n",
    "ax.loglog()\n",
    "for axis in [ax.xaxis, ax.yaxis]:\n",
    "    formatter = matplotlib.ticker.FormatStrFormatter(\"%d\")\n",
    "    axis.set_major_formatter(formatter)\n",
    "    axis.set_minor_formatter(formatter)\n",
    "ax.grid(visible=True, which='major', linewidth=2)\n",
    "ax.grid(visible=True, which='minor')\n",
    "plt.title(\"Log-Log Scaling plot for Spark\", fontsize=20)\n",
    "plt.xlabel(\"Cores\", fontsize=16)\n",
    "plt.ylabel(\"Time [s]\", fontsize=16)\n",
    "plt.xlim([1, n_cores])\n",
    "plt.plot(df[\"cores\"].values, df[\"time\"].values, 'ro-')\n",
    "\n",
    "plt.savefig(os.path.join(\"results\", \"Spark_scaling.png\"), dpi=300)\n",
    "plt.show()"
   ]
  },
  {
   "cell_type": "markdown",
   "id": "f9bb722b-eaca-4280-adca-c4ebe68de8b9",
   "metadata": {},
   "source": [
    "### Plot Parallel Efficiency as Function of Cores"
   ]
  },
  {
   "cell_type": "code",
   "execution_count": 13,
   "id": "72819ffd-c428-4830-ad29-a177e5ce1481",
   "metadata": {},
   "outputs": [
    {
     "data": {
      "image/png": "[encoded data removed]",
      "text/plain": [
       "<Figure size 936x576 with 1 Axes>"
      ]
     },
     "metadata": {
      "needs_background": "light"
     },
     "output_type": "display_data"
    }
   ],
   "source": [
    "fig, ax = plt.subplots(figsize=(13, 8))\n",
    "ax.set_xscale('log')\n",
    "formatter = matplotlib.ticker.FormatStrFormatter(\"%d\")\n",
    "ax.xaxis.set_major_formatter(formatter)\n",
    "ax.xaxis.set_minor_formatter(formatter)\n",
    "ax.xaxis.set_major_locator(matplotlib.ticker.MaxNLocator(integer=True))\n",
    "                                                         \n",
    "plt.title(\"Parallel Efficiency for Spark\", fontsize=20)\n",
    "plt.xlabel(\"Cores\", fontsize=16)\n",
    "plt.ylabel(\"Efficiency\", fontsize=16)\n",
    "plt.xlim([1, n_cores])\n",
    "plt.plot(df[\"cores\"].values, df[\"efficiency\"].values, 'ro-')\n",
    "\n",
    "plt.savefig(os.path.join(\"results\", \"Spark_efficiency.png\"), dpi=300)\n",
    "plt.show()"
   ]
  }
 ],
 "metadata": {
  "kernelspec": {
   "display_name": "Python 3 (ipykernel)",
   "language": "python",
   "name": "python3"
  },
  "language_info": {
   "codemirror_mode": {
    "name": "ipython",
    "version": 3
   },
   "file_extension": ".py",
   "mimetype": "text/x-python",
   "name": "python",
   "nbconvert_exporter": "python",
   "pygments_lexer": "ipython3",
   "version": "3.8.13"
  }
 },
 "nbformat": 4,
 "nbformat_minor": 5
}
