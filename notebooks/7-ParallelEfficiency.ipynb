{
 "cells": [
  {
   "cell_type": "markdown",
   "id": "5718f8f9-adf3-4376-a7b4-d09c9706ad96",
   "metadata": {},
   "source": [
    "# 7-ParallelEfficiency\n",
    "This notebook evaluates the scaling of Dask, Spark, and DaskCuda dataframe libraries with respect to the number of cores and the file format of the data file ([csv](https://en.wikipedia.org/wiki/Comma-separated_values). vs. [parquet](https://parquet.apache.org/)). The executed notebooks with output and plots are saved in the [results directory](results). Note: this is not a representative comparison of these dataframe libraries.\n",
    "\n",
    "See Robert Sinkovits' [Parallel Computing Concepts](https://github.com/sdsc/sdsc-summer-institute-2022/tree/main/2.1_parallel_computing_concepts) for background.\n",
    "\n",
    "Author: Peter W. Rose (pwrose@ucsd.edu)"
   ]
  },
  {
   "cell_type": "code",
   "execution_count": 1,
   "id": "adde6518-742b-42a6-923d-9f2a1ce7ef36",
   "metadata": {
    "tags": []
   },
   "outputs": [],
   "source": [
    "import os\n",
    "import time\n",
    "import math\n",
    "import pandas as pd\n",
    "import ipywidgets as widgets\n",
    "import papermill as pm\n",
    "import matplotlib\n",
    "import matplotlib.pyplot as plt\n",
    "%matplotlib inline"
   ]
  },
  {
   "cell_type": "markdown",
   "id": "ee708ac8-ac06-4b09-b99f-0aacbeb2c23c",
   "metadata": {
    "tags": []
   },
   "source": [
    "If LOCAL_SCRATCH_DIR environment variable is not set, this notebook accesses the ../data directory for temporary files."
   ]
  },
  {
   "cell_type": "code",
   "execution_count": 2,
   "id": "d3b8353c-b5de-4846-aa96-be5b2beef783",
   "metadata": {
    "jupyter": {
     "source_hidden": true
    },
    "tags": []
   },
   "outputs": [],
   "source": [
    "DATA_DIR = os.getenv(\"LOCAL_SCRATCH_DIR\", default=\"../data\")\n",
    "filename = os.path.join(DATA_DIR, \"gene_info.tsv\")\n",
    "file_size = f\"{os.path.getsize(filename)/1E9:.1f}\"\n",
    "RESULTS_DIR = \"results\"\n",
    "os.makedirs(RESULTS_DIR, exist_ok=True)"
   ]
  },
  {
   "cell_type": "code",
   "execution_count": 3,
   "id": "0553ef66-3f81-41d5-b073-c73cc5d3ed51",
   "metadata": {
    "jupyter": {
     "source_hidden": true
    },
    "tags": []
   },
   "outputs": [
    {
     "name": "stdout",
     "output_type": "stream",
     "text": [
      "Filename: ../data/gene_info.tsv\n",
      "File Size: 5.4 GB\n",
      "Benchmark results directory: results\n"
     ]
    }
   ],
   "source": [
    "print(f\"Filename: {filename}\")\n",
    "print(f\"File Size: {file_size} GB\")\n",
    "print(f\"Benchmark results directory: {RESULTS_DIR}\")"
   ]
  },
  {
   "cell_type": "markdown",
   "id": "86f667e1-3bf5-4b79-a049-15afaa6214e9",
   "metadata": {
    "tags": []
   },
   "source": [
    "### Setup Benchmark"
   ]
  },
  {
   "cell_type": "markdown",
   "id": "0e6be895-1e26-408c-a07f-4ebea133bba3",
   "metadata": {},
   "source": [
    "#### Specify the number of cores to be used for benchmarking"
   ]
  },
  {
   "cell_type": "code",
   "execution_count": 4,
   "id": "ce65fd8d-8e0a-431d-96b1-4a64bf0c08f0",
   "metadata": {
    "tags": [
     "parameters"
    ]
   },
   "outputs": [],
   "source": [
    "# Cell has a ```parameters``` tag\n",
    "n_cores = 8\n",
    "file_format = \"csv\"\n",
    "dataframe = \"Dask\""
   ]
  },
  {
   "cell_type": "code",
   "execution_count": 5,
   "id": "6cd14e1d-8932-4ed8-aa7e-26c3ff01f067",
   "metadata": {
    "tags": [
     "parameters"
    ]
   },
   "outputs": [
    {
     "name": "stdout",
     "output_type": "stream",
     "text": [
      "[1, 2, 4, 8]\n"
     ]
    }
   ],
   "source": [
    "cores = [2**i for i in range(0, round(math.log2(n_cores)+1))]\n",
    "print(cores)"
   ]
  },
  {
   "cell_type": "code",
   "execution_count": 6,
   "id": "b4ccf2fe-848f-4f7e-92f0-38fdee709dd4",
   "metadata": {
    "jupyter": {
     "source_hidden": true
    },
    "tags": []
   },
   "outputs": [],
   "source": [
    "style = {'description_width': \"initial\"}\n",
    "f_widget = widgets.RadioButtons(options=[\"csv\", \"parquet\"], description=\"Select input file format:\", value=file_format, style=style)\n",
    "d_widget = widgets.RadioButtons(options=[\"Dask\", \"Spark\", \"DaskCuda\"], description=\"Select dataframe library:\", value=dataframe, style=style)"
   ]
  },
  {
   "cell_type": "markdown",
   "id": "68377118-119d-42b5-8988-f101b609cdca",
   "metadata": {
    "tags": []
   },
   "source": [
    "#### Select input format and dataframe library"
   ]
  },
  {
   "cell_type": "code",
   "execution_count": 7,
   "id": "a4b10e16-3c86-48ec-ab7b-3aa733f91611",
   "metadata": {
    "tags": []
   },
   "outputs": [
    {
     "data": {
      "application/vnd.jupyter.widget-view+json": {
       "model_id": "a31f51065fc44563a3b8827a4a2b2ef3",
       "version_major": 2,
       "version_minor": 0
      },
      "text/plain": [
       "RadioButtons(description='Select input file format:', options=('csv', 'parquet'), style=DescriptionStyle(descr…"
      ]
     },
     "metadata": {},
     "output_type": "display_data"
    },
    {
     "data": {
      "application/vnd.jupyter.widget-view+json": {
       "model_id": "d39ed44753054be0a127a8f67b8650c6",
       "version_major": 2,
       "version_minor": 0
      },
      "text/plain": [
       "RadioButtons(description='Select dataframe library:', options=('Dask', 'Spark', 'DaskCuda'), style=Description…"
      ]
     },
     "metadata": {},
     "output_type": "display_data"
    }
   ],
   "source": [
    "display(f_widget, d_widget)"
   ]
  },
  {
   "cell_type": "code",
   "execution_count": 8,
   "id": "f17ffabb-6481-41c3-8e93-08aa4a0c60ed",
   "metadata": {
    "jupyter": {
     "source_hidden": true
    },
    "tags": []
   },
   "outputs": [],
   "source": [
    "file_format = f_widget.value\n",
    "dataframe = d_widget.value\n",
    "df_libraries = {\"Dask\": \"3-DaskDataframe.ipynb\", \"Spark\": \"4-SparkDataframe.ipynb\", \"DaskCuda\": \"6-DaskCudaDataframe.ipynb\"}\n",
    "notebook = df_libraries.get(dataframe)\n",
    "notebook_name, _ = os.path.splitext(notebook)\n",
    "output = f\"{notebook_name}_{file_size}_{file_format}\""
   ]
  },
  {
   "cell_type": "code",
   "execution_count": 9,
   "id": "e793c245-ddb3-4a9d-aa7e-476b00acd24a",
   "metadata": {
    "jupyter": {
     "source_hidden": true
    },
    "tags": []
   },
   "outputs": [
    {
     "name": "stdout",
     "output_type": "stream",
     "text": [
      "File format: csv\n",
      "Dataframe  : Dask\n",
      "Notebook   : 3-DaskDataframe.ipynb\n"
     ]
    }
   ],
   "source": [
    "print(f\"File format: {file_format}\")\n",
    "print(f\"Dataframe  : {dataframe}\")\n",
    "print(f\"Notebook   : {notebook}\")"
   ]
  },
  {
   "cell_type": "markdown",
   "id": "c3346503-f152-44bf-bc38-d0464df3d0b5",
   "metadata": {},
   "source": [
    "### Run Benchmark\n",
    "This benchmark runs Jupyter Notebooks with two input parameters: the number of ```cores``` and the ```file format``` of the input file. It uses [papermill](https://papermill.readthedocs.io/en/latest/) to execute the notebooks non-interactively. The executed notebooks with output and plots are saved in the [results directory](results)."
   ]
  },
  {
   "cell_type": "code",
   "execution_count": 10,
   "id": "57269650-141b-493c-a6bb-29ae5980aee0",
   "metadata": {
    "tags": []
   },
   "outputs": [
    {
     "data": {
      "application/vnd.jupyter.widget-view+json": {
       "model_id": "4b02e0bf1d504124b5da74737c150da5",
       "version_major": 2,
       "version_minor": 0
      },
      "text/plain": [
       "Executing:   0%|          | 0/24 [00:00<?, ?cell/s]"
      ]
     },
     "metadata": {},
     "output_type": "display_data"
    },
    {
     "name": "stdout",
     "output_type": "stream",
     "text": [
      "cores: 1, time: 88.1 s, notebook: results/3-DaskDataframe_5.4_csv_1.ipynb\n"
     ]
    },
    {
     "data": {
      "application/vnd.jupyter.widget-view+json": {
       "model_id": "008063c5714a404fb48194472cf42cf4",
       "version_major": 2,
       "version_minor": 0
      },
      "text/plain": [
       "Executing:   0%|          | 0/24 [00:00<?, ?cell/s]"
      ]
     },
     "metadata": {},
     "output_type": "display_data"
    },
    {
     "name": "stdout",
     "output_type": "stream",
     "text": [
      "cores: 2, time: 57.9 s, notebook: results/3-DaskDataframe_5.4_csv_2.ipynb\n"
     ]
    },
    {
     "data": {
      "application/vnd.jupyter.widget-view+json": {
       "model_id": "6fe04a34eff74f4782959a3fd9a70875",
       "version_major": 2,
       "version_minor": 0
      },
      "text/plain": [
       "Executing:   0%|          | 0/24 [00:00<?, ?cell/s]"
      ]
     },
     "metadata": {},
     "output_type": "display_data"
    },
    {
     "name": "stdout",
     "output_type": "stream",
     "text": [
      "cores: 4, time: 48.5 s, notebook: results/3-DaskDataframe_5.4_csv_4.ipynb\n"
     ]
    },
    {
     "data": {
      "application/vnd.jupyter.widget-view+json": {
       "model_id": "1fc0562bc40a420b855bdc15ecd252b5",
       "version_major": 2,
       "version_minor": 0
      },
      "text/plain": [
       "Executing:   0%|          | 0/24 [00:00<?, ?cell/s]"
      ]
     },
     "metadata": {},
     "output_type": "display_data"
    },
    {
     "name": "stdout",
     "output_type": "stream",
     "text": [
      "cores: 8, time: 44.1 s, notebook: results/3-DaskDataframe_5.4_csv_8.ipynb\n"
     ]
    }
   ],
   "source": [
    "timing = []\n",
    "for n_cores in cores:\n",
    "    start = time.time()\n",
    "\n",
    "    notebook_out = os.path.join(RESULTS_DIR, f\"{output}_{n_cores}.ipynb\")\n",
    "    \n",
    "    pm.execute_notebook(notebook, notebook_out, parameters={\"n_cores\": n_cores, \"file_format\": file_format})\n",
    "       \n",
    "    end = time.time()\n",
    "    \n",
    "    print(f\"cores: {n_cores}, time: {end-start:.1f} s, notebook: {notebook_out}\")\n",
    "    timing.append({\"cores\": n_cores, \"time\": end-start})"
   ]
  },
  {
   "cell_type": "code",
   "execution_count": 11,
   "id": "65961590-d3cf-4253-96c7-2e06af8b6f3c",
   "metadata": {
    "tags": []
   },
   "outputs": [
    {
     "data": {
      "text/html": [
       "<div>\n",
       "<style scoped>\n",
       "    .dataframe tbody tr th:only-of-type {\n",
       "        vertical-align: middle;\n",
       "    }\n",
       "\n",
       "    .dataframe tbody tr th {\n",
       "        vertical-align: top;\n",
       "    }\n",
       "\n",
       "    .dataframe thead th {\n",
       "        text-align: right;\n",
       "    }\n",
       "</style>\n",
       "<table border=\"1\" class=\"dataframe\">\n",
       "  <thead>\n",
       "    <tr style=\"text-align: right;\">\n",
       "      <th></th>\n",
       "      <th>cores</th>\n",
       "      <th>time</th>\n",
       "      <th>efficiency</th>\n",
       "      <th>linear</th>\n",
       "      <th>size</th>\n",
       "      <th>format</th>\n",
       "      <th>dataframe</th>\n",
       "    </tr>\n",
       "  </thead>\n",
       "  <tbody>\n",
       "    <tr>\n",
       "      <th>0</th>\n",
       "      <td>1</td>\n",
       "      <td>88.103944</td>\n",
       "      <td>1.000000</td>\n",
       "      <td>88.103944</td>\n",
       "      <td>5.4</td>\n",
       "      <td>csv</td>\n",
       "      <td>Dask</td>\n",
       "    </tr>\n",
       "    <tr>\n",
       "      <th>1</th>\n",
       "      <td>2</td>\n",
       "      <td>57.903487</td>\n",
       "      <td>0.760783</td>\n",
       "      <td>44.051972</td>\n",
       "      <td>5.4</td>\n",
       "      <td>csv</td>\n",
       "      <td>Dask</td>\n",
       "    </tr>\n",
       "    <tr>\n",
       "      <th>2</th>\n",
       "      <td>4</td>\n",
       "      <td>48.509924</td>\n",
       "      <td>0.454051</td>\n",
       "      <td>22.025986</td>\n",
       "      <td>5.4</td>\n",
       "      <td>csv</td>\n",
       "      <td>Dask</td>\n",
       "    </tr>\n",
       "    <tr>\n",
       "      <th>3</th>\n",
       "      <td>8</td>\n",
       "      <td>44.125475</td>\n",
       "      <td>0.249584</td>\n",
       "      <td>11.012993</td>\n",
       "      <td>5.4</td>\n",
       "      <td>csv</td>\n",
       "      <td>Dask</td>\n",
       "    </tr>\n",
       "  </tbody>\n",
       "</table>\n",
       "</div>"
      ],
      "text/plain": [
       "   cores       time  efficiency     linear size format dataframe\n",
       "0      1  88.103944    1.000000  88.103944  5.4    csv      Dask\n",
       "1      2  57.903487    0.760783  44.051972  5.4    csv      Dask\n",
       "2      4  48.509924    0.454051  22.025986  5.4    csv      Dask\n",
       "3      8  44.125475    0.249584  11.012993  5.4    csv      Dask"
      ]
     },
     "execution_count": 11,
     "metadata": {},
     "output_type": "execute_result"
    }
   ],
   "source": [
    "df = pd.DataFrame(timing)\n",
    "df[\"efficiency\"] = df[\"time\"].iloc[0] / (df[\"time\"] * df[\"cores\"])\n",
    "df[\"linear\"] = df[\"time\"].iloc[0] / df[\"cores\"]\n",
    "df[\"size\"] = file_size\n",
    "df[\"format\"] = file_format\n",
    "df[\"dataframe\"] = dataframe\n",
    "df"
   ]
  },
  {
   "cell_type": "code",
   "execution_count": 12,
   "id": "ac6473c0-c1a7-4786-97cc-cd995e8ada92",
   "metadata": {
    "tags": []
   },
   "outputs": [],
   "source": [
    "df.to_csv(os.path.join(RESULTS_DIR, f\"{output}.csv\"), index=False)"
   ]
  },
  {
   "cell_type": "markdown",
   "id": "f9bb722b-eaca-4280-adca-c4ebe68de8b9",
   "metadata": {},
   "source": [
    "### Runtime and Parallel Efficiency as Function of Number of Cores"
   ]
  },
  {
   "cell_type": "code",
   "execution_count": 13,
   "id": "262f8d1d-1edc-44fe-a48e-b8bdc082617a",
   "metadata": {
    "tags": []
   },
   "outputs": [
    {
     "data": {
      "image/png": "[encoded data removed]",
      "text/plain": [
       "<Figure size 648x432 with 2 Axes>"
      ]
     },
     "metadata": {
      "needs_background": "light"
     },
     "output_type": "display_data"
    }
   ],
   "source": [
    "fig, ax = plt.subplots(figsize=(9, 6))\n",
    "ax.loglog()\n",
    "for axis in [ax.xaxis, ax.yaxis]:\n",
    "    formatter = matplotlib.ticker.FormatStrFormatter(\"%d\")\n",
    "    axis.set_major_formatter(formatter)\n",
    "    axis.set_minor_formatter(formatter)\n",
    "ax.grid(visible=True, which='major', linewidth=2)\n",
    "ax.grid(visible=True, which='minor')\n",
    "\n",
    "plt.title(f\"Log-Log Scaling Plot for {dataframe} ({file_format}, {file_size} GB)\", fontsize=18)\n",
    "plt.xlabel(\"Cores\", fontsize=14)\n",
    "plt.ylabel(\"Time [s]\", fontsize=14, color='r')\n",
    "plt.xlim([1, n_cores])\n",
    "plt.plot(df[\"cores\"].values, df[\"time\"].values, \"ro-\", label=\"Time\")\n",
    "ax.plot(df[\"cores\"].values, df[\"linear\"].values, color=\"gray\", linestyle=\"dashed\", label=\"linear\")\n",
    "\n",
    "ax2 = ax.twinx()\n",
    "ax2.set_ylabel(\"Parallel efficiency\", fontsize=16, color=\"b\")\n",
    "ax2.spines[\"top\"].set_linewidth(2)\n",
    "ax2.spines[\"bottom\"].set_linewidth(2)\n",
    "ax2.spines[\"left\"].set_linewidth(2)\n",
    "ax2.spines[\"left\"].set_color(\"r\")\n",
    "ax2.spines[\"right\"].set_linewidth(2)\n",
    "ax2.spines[\"right\"].set_color(\"b\")\n",
    "\n",
    "ax2.set_ylim(0, 1.05)\n",
    "ax2.plot(df[\"cores\"].values, df[\"efficiency\"].values, \"bx-\", label=\"Parallel efficiency\")\n",
    "\n",
    "ax.legend(loc='upper left', bbox_to_anchor=(0.04, 0.1, 0.1, 0.1), frameon=False)\n",
    "ax2.legend(loc='upper left', bbox_to_anchor=(0.04, 0.15, 0.1, 0.1), frameon=False)\n",
    "\n",
    "plt.setp(ax2.get_yticklabels(), color=\"b\")\n",
    "plt.setp(ax.get_yticklabels(), color=\"r\")\n",
    "\n",
    "plt.savefig(os.path.join(\"results\",f\"{output}.png\"), dpi=300)\n",
    "plt.show()"
   ]
  },
  {
   "cell_type": "markdown",
   "id": "610074b3-e616-471a-864d-be999f7a282e",
   "metadata": {},
   "source": [
    "* Time: observed runtime\n",
    "* linear: expected runtime for perfect scaling\n",
    "* Parallel efficiency: measure of resource utilization for parallel processing\n",
    "\n",
    "For perfect scaling the observed runtime would match the linear black line and the parallel efficiency would be 1.0.\n"
   ]
  },
  {
   "cell_type": "code",
   "execution_count": null,
   "id": "e934d043-b6e6-4731-8c71-437a476d4862",
   "metadata": {},
   "outputs": [],
   "source": []
  },
  {
   "cell_type": "code",
   "execution_count": null,
   "id": "df7dcaa0-486e-4ea0-a8b6-6224359597d9",
   "metadata": {},
   "outputs": [],
   "source": []
  },
  {
   "cell_type": "code",
   "execution_count": null,
   "id": "644ea43a-f005-489f-a45d-86705c211e2b",
   "metadata": {},
   "outputs": [],
   "source": []
  }
 ],
 "metadata": {
  "kernelspec": {
   "display_name": "Python 3 (ipykernel)",
   "language": "python",
   "name": "python3"
  },
  "language_info": {
   "codemirror_mode": {
    "name": "ipython",
    "version": 3
   },
   "file_extension": ".py",
   "mimetype": "text/x-python",
   "name": "python",
   "nbconvert_exporter": "python",
   "pygments_lexer": "ipython3",
   "version": "3.9.13"
  }
 },
 "nbformat": 4,
 "nbformat_minor": 5
}
