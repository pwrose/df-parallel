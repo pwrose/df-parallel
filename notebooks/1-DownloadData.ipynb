{
 "cells": [
  {
   "cell_type": "markdown",
   "id": "e09c9dd7-d99c-4a12-a46a-9b84c85b5fb4",
   "metadata": {},
   "source": [
    "# Download Gene Information\n",
    "This notebook downloads a list of genes for organisms from [NCBI](https://www.ncbi.nlm.nih.gov/).\n",
    "\n",
    "To ensure platform independence, this notebook uses Python libraries to download and unzip a compressed file."
   ]
  },
  {
   "cell_type": "code",
   "execution_count": 1,
   "id": "adde6518-742b-42a6-923d-9f2a1ce7ef36",
   "metadata": {},
   "outputs": [],
   "source": [
    "import os\n",
    "import shutil\n",
    "import requests\n",
    "import gzip"
   ]
  },
  {
   "cell_type": "markdown",
   "id": "9b028077-3eaf-4178-b671-787b87cd50b0",
   "metadata": {},
   "source": [
    "If LOCAL_SCRATCH_DIR environment variable is not set, this notebook creates the ../data directory to store temporary files."
   ]
  },
  {
   "cell_type": "code",
   "execution_count": 2,
   "id": "66512f04-c189-46ea-ba9d-b54a727047ae",
   "metadata": {},
   "outputs": [],
   "source": [
    "DATA_DIR = os.getenv(\"LOCAL_SCRATCH_DIR\", default=\"../data\")\n",
    "os.makedirs(DATA_DIR, exist_ok=True)"
   ]
  },
  {
   "cell_type": "code",
   "execution_count": 3,
   "id": "e26aeb02-f9b5-460d-b358-a4a5f8544da3",
   "metadata": {},
   "outputs": [],
   "source": [
    "url = \"https://ftp.ncbi.nlm.nih.gov/gene/DATA/gene_info.gz\"\n",
    "filename_in = os.path.join(DATA_DIR, \"gene_info.gz\")\n",
    "filename_out = os.path.join(DATA_DIR, \"gene_info.tsv\")"
   ]
  },
  {
   "cell_type": "markdown",
   "id": "3369c838-e443-4b55-baee-af97b657e16d",
   "metadata": {},
   "source": [
    "Download using streaming to handle large files that exceed available memory"
   ]
  },
  {
   "cell_type": "code",
   "execution_count": 4,
   "id": "ce2bfabc-7518-46d6-b56a-61a703d31d31",
   "metadata": {},
   "outputs": [],
   "source": [
    "def download_http(url, filename):\n",
    "    with requests.get(url, stream=True) as r:\n",
    "        with open(filename, \"wb\") as f:\n",
    "            shutil.copyfileobj(r.raw, f)"
   ]
  },
  {
   "cell_type": "code",
   "execution_count": 5,
   "id": "23528aee-f2b5-4639-a7e1-d8f3413b6831",
   "metadata": {},
   "outputs": [],
   "source": [
    "def unzip(filename_in, filename_out):\n",
    "    with gzip.open(filename_in, \"rb\") as f_in:\n",
    "        with open(filename_out, \"wb\") as f_out:\n",
    "            shutil.copyfileobj(f_in, f_out)"
   ]
  },
  {
   "cell_type": "code",
   "execution_count": 6,
   "id": "23728e50-4041-4455-94d7-a121724a42b0",
   "metadata": {},
   "outputs": [
    {
     "name": "stdout",
     "output_type": "stream",
     "text": [
      "downloading https://ftp.ncbi.nlm.nih.gov/gene/DATA/gene_info.gz to ../data/gene_info.gz\n"
     ]
    }
   ],
   "source": [
    "print(f\"downloading {url} to {filename_in}\")\n",
    "download_http(url, filename_in)"
   ]
  },
  {
   "cell_type": "code",
   "execution_count": 7,
   "id": "18cf6f32-3e12-4386-9692-f411ed6474d9",
   "metadata": {},
   "outputs": [
    {
     "name": "stdout",
     "output_type": "stream",
     "text": [
      "unzipping ../data/gene_info.gz to ../data/gene_info.tsv\n"
     ]
    }
   ],
   "source": [
    "print(f\"unzipping {filename_in} to {filename_out}\")\n",
    "unzip(filename_in, filename_out)"
   ]
  }
 ],
 "metadata": {
  "kernelspec": {
   "display_name": "Python 3 (ipykernel)",
   "language": "python",
   "name": "python3"
  },
  "language_info": {
   "codemirror_mode": {
    "name": "ipython",
    "version": 3
   },
   "file_extension": ".py",
   "mimetype": "text/x-python",
   "name": "python",
   "nbconvert_exporter": "python",
   "pygments_lexer": "ipython3",
   "version": "3.8.13"
  }
 },
 "nbformat": 4,
 "nbformat_minor": 5
}
