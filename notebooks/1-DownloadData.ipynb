{
 "cells": [
  {
   "cell_type": "markdown",
   "id": "e09c9dd7-d99c-4a12-a46a-9b84c85b5fb4",
   "metadata": {},
   "source": [
    "# Download Gene Information\n",
    "This noteboook downloads and unzips a sample dataset.\n",
    "\n",
    "Dataset description:\n",
    "A list of gene names and annotations for species from [National Center for Biotechnology Information](https://www.ncbi.nlm.nih.gov/) in tsv format.\n",
    "\n",
    "Size: 5.4 GB unzipped (as of June 2022)\n",
    "\n",
    "Source: https://ftp.ncbi.nlm.nih.gov/gene/DATA/gene_info.gz\n",
    "\n",
    "Description: https://ftp.ncbi.nlm.nih.gov/gene/DATA/README\n",
    "\n",
    "To ensure platform independence, this notebook uses Python libraries to download and unzip a compressed file."
   ]
  },
  {
   "cell_type": "code",
   "execution_count": 1,
   "id": "adde6518-742b-42a6-923d-9f2a1ce7ef36",
   "metadata": {},
   "outputs": [],
   "source": [
    "import os\n",
    "import shutil\n",
    "import requests\n",
    "import gzip\n",
    "import pandas as pd"
   ]
  },
  {
   "cell_type": "markdown",
   "id": "89016c45-7a36-48e6-929b-f56cee22dada",
   "metadata": {},
   "source": [
    "### Specify the number of copies that should be made of the original dataset to increase its size for benchmarking\n",
    "\n",
    "A single copy of the file is about 5.4GB as of June 2022."
   ]
  },
  {
   "cell_type": "code",
   "execution_count": 2,
   "id": "4a3cdf90-2844-4fb2-a6b6-69761d551f98",
   "metadata": {},
   "outputs": [],
   "source": [
    "ncopies = 1"
   ]
  },
  {
   "cell_type": "markdown",
   "id": "9b028077-3eaf-4178-b671-787b87cd50b0",
   "metadata": {},
   "source": [
    "If LOCAL_SCRATCH_DIR environment variable is not set, this notebook creates the ../data directory to store temporary files."
   ]
  },
  {
   "cell_type": "code",
   "execution_count": 3,
   "id": "66512f04-c189-46ea-ba9d-b54a727047ae",
   "metadata": {},
   "outputs": [],
   "source": [
    "DATA_DIR = os.getenv(\"LOCAL_SCRATCH_DIR\", default=\"../data\")\n",
    "os.makedirs(DATA_DIR, exist_ok=True)"
   ]
  },
  {
   "cell_type": "code",
   "execution_count": 4,
   "id": "e26aeb02-f9b5-460d-b358-a4a5f8544da3",
   "metadata": {},
   "outputs": [],
   "source": [
    "url = \"https://ftp.ncbi.nlm.nih.gov/gene/DATA/gene_info.gz\"\n",
    "filename_in = os.path.join(DATA_DIR, \"gene_info.gz\")\n",
    "filename_out = os.path.join(DATA_DIR, \"gene_info.tsv\")"
   ]
  },
  {
   "cell_type": "markdown",
   "id": "3369c838-e443-4b55-baee-af97b657e16d",
   "metadata": {},
   "source": [
    "Download using streaming to handle large files that exceed available memory"
   ]
  },
  {
   "cell_type": "code",
   "execution_count": 5,
   "id": "ce2bfabc-7518-46d6-b56a-61a703d31d31",
   "metadata": {},
   "outputs": [],
   "source": [
    "def download_http(url, filename):\n",
    "    with requests.get(url, stream=True) as r:\n",
    "        with open(filename, \"wb\") as f:\n",
    "            shutil.copyfileobj(r.raw, f)"
   ]
  },
  {
   "cell_type": "code",
   "execution_count": 6,
   "id": "23528aee-f2b5-4639-a7e1-d8f3413b6831",
   "metadata": {},
   "outputs": [],
   "source": [
    "def unzip(filename_in, filename_out):\n",
    "    with gzip.open(filename_in, \"rb\") as f_in:\n",
    "        with open(filename_out, \"wb\") as f_out:\n",
    "            shutil.copyfileobj(f_in, f_out)"
   ]
  },
  {
   "cell_type": "code",
   "execution_count": 7,
   "id": "23728e50-4041-4455-94d7-a121724a42b0",
   "metadata": {},
   "outputs": [
    {
     "name": "stdout",
     "output_type": "stream",
     "text": [
      "downloading https://ftp.ncbi.nlm.nih.gov/gene/DATA/gene_info.gz to ../data/gene_info.gz\n"
     ]
    }
   ],
   "source": [
    "print(f\"downloading {url} to {filename_in}\")\n",
    "download_http(url, filename_in)"
   ]
  },
  {
   "cell_type": "code",
   "execution_count": 8,
   "id": "18cf6f32-3e12-4386-9692-f411ed6474d9",
   "metadata": {},
   "outputs": [
    {
     "name": "stdout",
     "output_type": "stream",
     "text": [
      "unzipping ../data/gene_info.gz to ../data/gene_info.tsv\n"
     ]
    }
   ],
   "source": [
    "print(f\"unzipping {filename_in} to {filename_out}\")"
   ]
  },
  {
   "cell_type": "markdown",
   "id": "473603a1-3b56-40ba-a6bc-696943cc0826",
   "metadata": {},
   "source": [
    "#### Create dataset by appending multiple copies to the original file"
   ]
  },
  {
   "cell_type": "code",
   "execution_count": 9,
   "id": "5b03099a-6209-4ff0-96d6-66d38d56ae75",
   "metadata": {},
   "outputs": [
    {
     "name": "stdout",
     "output_type": "stream",
     "text": [
      "CPU times: user 18.4 s, sys: 3.13 s, total: 21.6 s\n",
      "Wall time: 27.6 s\n"
     ]
    }
   ],
   "source": [
    "%%time\n",
    "with open(filename_out, 'wb') as f_out:\n",
    "    # make a single copy including the header\n",
    "    with gzip.open(filename_in, \"rb\") as f_in:\n",
    "        shutil.copyfileobj(f_in, f_out)\n",
    "                               \n",
    "    # append n-1 copies without the header\n",
    "    for _ in range(1, ncopies):\n",
    "        header = True\n",
    "        with gzip.open(filename_in, \"rb\") as f_in:\n",
    "            for line in f_in:\n",
    "                if header:\n",
    "                    header = False\n",
    "                else:\n",
    "                    f_out.write(line)"
   ]
  },
  {
   "cell_type": "code",
   "execution_count": 10,
   "id": "d3023b17-750d-43f2-81a0-fedb4f1e8150",
   "metadata": {},
   "outputs": [
    {
     "name": "stdout",
     "output_type": "stream",
     "text": [
      "File Size: 5.4 GB\n"
     ]
    }
   ],
   "source": [
    "file_size = os.path.getsize(filename_out)\n",
    "print(f\"File Size: {file_size/1E9:.1f} GB\")"
   ]
  },
  {
   "cell_type": "code",
   "execution_count": null,
   "id": "eebb7617-bc8f-4b82-9050-eb88a3b17ede",
   "metadata": {},
   "outputs": [],
   "source": []
  }
 ],
 "metadata": {
  "kernelspec": {
   "display_name": "Python 3 (ipykernel)",
   "language": "python",
   "name": "python3"
  },
  "language_info": {
   "codemirror_mode": {
    "name": "ipython",
    "version": 3
   },
   "file_extension": ".py",
   "mimetype": "text/x-python",
   "name": "python",
   "nbconvert_exporter": "python",
   "pygments_lexer": "ipython3",
   "version": "3.8.13"
  }
 },
 "nbformat": 4,
 "nbformat_minor": 5
}
