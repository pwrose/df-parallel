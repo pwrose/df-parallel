{
 "cells": [
  {
   "cell_type": "markdown",
   "id": "9b8635ef-0c6b-498e-8e7f-0712edc7a23e",
   "metadata": {},
   "source": [
    "# 3-DaskDataframe\n",
    "\n",
    "This notebook demonstrates how to read and process a tabular datafile with the [Dask](https://docs.dask.org/en/stable/dataframe.html) Dataframe library. A Dask DataFrame is a large parallel DataFrame composed of many smaller Pandas DataFrames. Dask can handle datasets that are large than the available memory (out-of-core) and process them in parallel on multiple cores.\n",
    "\n",
    "Author: Peter W. Rose (pwrose@ucsd.edu)"
   ]
  },
  {
   "cell_type": "code",
   "execution_count": 1,
   "id": "adde6518-742b-42a6-923d-9f2a1ce7ef36",
   "metadata": {},
   "outputs": [],
   "source": [
    "import os\n",
    "from dask.distributed import Client\n",
    "import dask.dataframe as dd\n",
    "import time"
   ]
  },
  {
   "cell_type": "code",
   "execution_count": 2,
   "id": "e1ea06a4-05e6-4577-b655-a362ba921b73",
   "metadata": {},
   "outputs": [],
   "source": [
    "#from jupyter_client import KernelManager\n",
    "#from jupyter_client import KernelManager\n",
    "#KernelManager.shutdown_wait_time = 60"
   ]
  },
  {
   "cell_type": "markdown",
   "id": "45a7aabe-b8f6-49b9-a1ba-3cffb08eb580",
   "metadata": {},
   "source": [
    "If LOCAL_SCRATCH_DIR environment variable is not set, this notebook accesses the ../data directory for temporary files."
   ]
  },
  {
   "cell_type": "code",
   "execution_count": 3,
   "id": "79be43cc-8a15-4fd2-a012-4213cd4635da",
   "metadata": {},
   "outputs": [],
   "source": [
    "DATA_DIR = os.getenv(\"LOCAL_SCRATCH_DIR\", default=\"../data\")"
   ]
  },
  {
   "cell_type": "markdown",
   "id": "4b7c578c-178a-4d87-a290-caf28fd13ad7",
   "metadata": {},
   "source": [
    "### Setup Benchmark"
   ]
  },
  {
   "cell_type": "markdown",
   "id": "dd4d354c-13fa-4349-bfc8-de2615726fcc",
   "metadata": {},
   "source": [
    "The ```n_cores``` and ```file_format``` parameter are used for benchmarking ([see](7-ParallelEfficiency.ipynb)). \n",
    "This Cell [3] has been [parameterized](https://papermill.readthedocs.io/en/latest/usage-parameterize.html) as input parameters for [papermill](https://papermill.readthedocs.io/en/latest/index.html)."
   ]
  },
  {
   "cell_type": "code",
   "execution_count": 4,
   "id": "5bfb4a12-cf82-4991-bb65-b141d1785a5e",
   "metadata": {
    "tags": [
     "parameters"
    ]
   },
   "outputs": [],
   "source": [
    "n_cores = 0 # default -> uses all available cores\n",
    "file_format = \"csv\""
   ]
  },
  {
   "cell_type": "code",
   "execution_count": 5,
   "id": "afb1bbc8-6c06-46bd-8d64-0df5c83d941f",
   "metadata": {},
   "outputs": [],
   "source": [
    "start = time.time()"
   ]
  },
  {
   "cell_type": "markdown",
   "id": "d98160a6-153f-4cab-8155-b33ad24b4665",
   "metadata": {},
   "source": [
    "### Read Data"
   ]
  },
  {
   "cell_type": "code",
   "execution_count": 6,
   "id": "f714be38-908d-47f2-af3a-b343c6c48e48",
   "metadata": {},
   "outputs": [],
   "source": [
    "if n_cores > 0:\n",
    "    # use n_cores for benchmarking\n",
    "    client = Client(n_workers=n_cores)\n",
    "else:\n",
    "    # use all available cores\n",
    "    client = Client()"
   ]
  },
  {
   "cell_type": "code",
   "execution_count": 7,
   "id": "e1575f4b-5a6b-4fd4-8de1-837d3599015e",
   "metadata": {},
   "outputs": [
    {
     "name": "stdout",
     "output_type": "stream",
     "text": [
      "Filename: ../data/gene_info.tsv\n",
      "File Size: 5.4 GB\n"
     ]
    }
   ],
   "source": [
    "# read only specified columns\n",
    "column_names = [\"GeneID\", \"Symbol\", \"Synonyms\", \"description\", \"type_of_gene\", \"#tax_id\", \"chromosome\"]\n",
    "\n",
    "if file_format == \"csv\":\n",
    "    filename = os.path.join(DATA_DIR, \"gene_info.tsv\")\n",
    "    # = dd.read_csv(filename, usecols=column_names, dtype=str, sep=\"\\t\", blocksize=\"0.25 GB\")\n",
    "    genes = dd.read_csv(filename, usecols=column_names, dtype=str, sep=\"\\t\", blocksize=\"0.1 GB\")\n",
    "elif file_format == \"parquet\":\n",
    "    filename = os.path.join(DATA_DIR, \"gene_info.parquet\")\n",
    "    genes = dd.read_parquet(os.path.join(DATA_DIR, \"gene_info.parquet\"), usecols=column_names, engine=\"pyarrow\")\n",
    "else:\n",
    "    print(\"invalid file format\")\n",
    "    \n",
    "print(\"Filename:\", filename)\n",
    "file_size = os.path.getsize(filename)\n",
    "print(f\"File Size: {file_size/1E9:.1f} GB\")\n",
    "\n",
    "genes = genes.rename(columns={\"#tax_id\": \"tax_id\"})"
   ]
  },
  {
   "cell_type": "markdown",
   "id": "22e78d68-ecec-4fa7-8eb7-d4f029d8bfea",
   "metadata": {},
   "source": [
    "### Process Data"
   ]
  },
  {
   "cell_type": "code",
   "execution_count": 8,
   "id": "3954214f-afba-43a3-bb3e-8add4d8620c8",
   "metadata": {},
   "outputs": [],
   "source": [
    "genes = genes.query(\"type_of_gene == 'protein-coding'\")\n",
    "groups = genes.groupby(\"tax_id\").size().reset_index()\n",
    "groups.columns = [\"tax_id\", \"count\"]\n",
    "groups = groups.sort_values(\"count\", ascending=False)"
   ]
  },
  {
   "cell_type": "markdown",
   "id": "1e327414-1441-4349-a012-582d7e7d624e",
   "metadata": {},
   "source": [
    "Convert Dask to Pandas dataframe (this triggers the computation)"
   ]
  },
  {
   "cell_type": "code",
   "execution_count": 9,
   "id": "42715ba8-583b-42ae-9f5f-e78166290499",
   "metadata": {},
   "outputs": [],
   "source": [
    "# groups = groups.compute(scheduler=\"processes\") # use if Dask client is not instantiated\n",
    "groups = groups.compute()"
   ]
  },
  {
   "cell_type": "code",
   "execution_count": 10,
   "id": "468a9242-9e6c-40bb-8382-00bf4fb21d5c",
   "metadata": {},
   "outputs": [],
   "source": [
    "# terminate the Dask processes\n",
    "client.close()"
   ]
  },
  {
   "cell_type": "markdown",
   "id": "1f788de8-19ac-4d1d-971f-ea048b464f98",
   "metadata": {},
   "source": [
    "### Display Results"
   ]
  },
  {
   "cell_type": "markdown",
   "id": "5ff1558c-e161-4e24-aaa6-93b4a990812f",
   "metadata": {},
   "source": [
    "#### Number of human protein-coding genes (tax_id = 9606)"
   ]
  },
  {
   "cell_type": "code",
   "execution_count": 11,
   "id": "d5745f4a-242b-4b74-b423-9a7de1de9e78",
   "metadata": {},
   "outputs": [
    {
     "data": {
      "text/html": [
       "<div>\n",
       "<style scoped>\n",
       "    .dataframe tbody tr th:only-of-type {\n",
       "        vertical-align: middle;\n",
       "    }\n",
       "\n",
       "    .dataframe tbody tr th {\n",
       "        vertical-align: top;\n",
       "    }\n",
       "\n",
       "    .dataframe thead th {\n",
       "        text-align: right;\n",
       "    }\n",
       "</style>\n",
       "<table border=\"1\" class=\"dataframe\">\n",
       "  <thead>\n",
       "    <tr style=\"text-align: right;\">\n",
       "      <th></th>\n",
       "      <th>tax_id</th>\n",
       "      <th>count</th>\n",
       "    </tr>\n",
       "  </thead>\n",
       "  <tbody>\n",
       "    <tr>\n",
       "      <th>1462</th>\n",
       "      <td>9606</td>\n",
       "      <td>20598</td>\n",
       "    </tr>\n",
       "  </tbody>\n",
       "</table>\n",
       "</div>"
      ],
      "text/plain": [
       "     tax_id  count\n",
       "1462   9606  20598"
      ]
     },
     "execution_count": 11,
     "metadata": {},
     "output_type": "execute_result"
    }
   ],
   "source": [
    "groups.query(\"tax_id == '9606'\")"
   ]
  },
  {
   "cell_type": "markdown",
   "id": "3842252d-2d7b-4065-bb38-9eaa79e7b112",
   "metadata": {},
   "source": [
    "#### Top 5 organisms with the most protein-coding genes"
   ]
  },
  {
   "cell_type": "code",
   "execution_count": 12,
   "id": "afd038df-7f1d-4ac9-8cb3-459fea72ed27",
   "metadata": {},
   "outputs": [
    {
     "data": {
      "text/html": [
       "<div>\n",
       "<style scoped>\n",
       "    .dataframe tbody tr th:only-of-type {\n",
       "        vertical-align: middle;\n",
       "    }\n",
       "\n",
       "    .dataframe tbody tr th {\n",
       "        vertical-align: top;\n",
       "    }\n",
       "\n",
       "    .dataframe thead th {\n",
       "        text-align: right;\n",
       "    }\n",
       "</style>\n",
       "<table border=\"1\" class=\"dataframe\">\n",
       "  <thead>\n",
       "    <tr style=\"text-align: right;\">\n",
       "      <th></th>\n",
       "      <th>tax_id</th>\n",
       "      <th>count</th>\n",
       "    </tr>\n",
       "  </thead>\n",
       "  <tbody>\n",
       "    <tr>\n",
       "      <th>679</th>\n",
       "      <td>4565</td>\n",
       "      <td>104035</td>\n",
       "    </tr>\n",
       "    <tr>\n",
       "      <th>478</th>\n",
       "      <td>3708</td>\n",
       "      <td>90975</td>\n",
       "    </tr>\n",
       "    <tr>\n",
       "      <th>6979</th>\n",
       "      <td>90675</td>\n",
       "      <td>82686</td>\n",
       "    </tr>\n",
       "    <tr>\n",
       "      <th>7132</th>\n",
       "      <td>94328</td>\n",
       "      <td>68154</td>\n",
       "    </tr>\n",
       "    <tr>\n",
       "      <th>453</th>\n",
       "      <td>3635</td>\n",
       "      <td>67632</td>\n",
       "    </tr>\n",
       "  </tbody>\n",
       "</table>\n",
       "</div>"
      ],
      "text/plain": [
       "     tax_id   count\n",
       "679    4565  104035\n",
       "478    3708   90975\n",
       "6979  90675   82686\n",
       "7132  94328   68154\n",
       "453    3635   67632"
      ]
     },
     "execution_count": 12,
     "metadata": {},
     "output_type": "execute_result"
    }
   ],
   "source": [
    "groups.head()"
   ]
  },
  {
   "cell_type": "code",
   "execution_count": 13,
   "id": "38f1638f-45c2-4ea4-8e19-12a14aa29495",
   "metadata": {},
   "outputs": [],
   "source": [
    "end = time.time()"
   ]
  },
  {
   "cell_type": "code",
   "execution_count": 14,
   "id": "f07ba539-a1df-4215-b1e7-f94037554fe8",
   "metadata": {},
   "outputs": [
    {
     "name": "stdout",
     "output_type": "stream",
     "text": [
      "Dask: 36.7 sec.\n"
     ]
    }
   ],
   "source": [
    "print(f\"Dask: {end - start:.1f} sec.\")"
   ]
  },
  {
   "cell_type": "code",
   "execution_count": null,
   "id": "91803407-2172-4c37-92da-bfa1d465f4b3",
   "metadata": {},
   "outputs": [],
   "source": []
  },
  {
   "cell_type": "code",
   "execution_count": null,
   "id": "a28a30c3-7a78-46e0-ab81-cb2b688e5f37",
   "metadata": {},
   "outputs": [],
   "source": []
  },
  {
   "cell_type": "code",
   "execution_count": null,
   "id": "176b4f72-d6f3-4b44-82d9-3ec3da912666",
   "metadata": {},
   "outputs": [],
   "source": []
  }
 ],
 "metadata": {
  "kernelspec": {
   "display_name": "Python 3 (ipykernel)",
   "language": "python",
   "name": "python3"
  },
  "language_info": {
   "codemirror_mode": {
    "name": "ipython",
    "version": 3
   },
   "file_extension": ".py",
   "mimetype": "text/x-python",
   "name": "python",
   "nbconvert_exporter": "python",
   "pygments_lexer": "ipython3",
   "version": "3.9.13"
  }
 },
 "nbformat": 4,
 "nbformat_minor": 5
}
