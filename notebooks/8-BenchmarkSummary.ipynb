{
 "cells": [
  {
   "cell_type": "markdown",
   "id": "5718f8f9-adf3-4376-a7b4-d09c9706ad96",
   "metadata": {},
   "source": [
    "# 8-BenchmarkSummary\n",
    "This notebook evaluates the scaling of Dask, Spark, and DaskCuda dataframe libraries with respect to the number of cores and the file format of the data file ([csv](https://en.wikipedia.org/wiki/Comma-separated_values). vs. [parquet](https://parquet.apache.org/)). \n",
    "\n",
    "To run this notebook, execute the benchmark.sb script. This notebook reads the benchmark resuls from the [results directory](results). \n",
    "\n",
    "Note: this is not a representative comparison of these dataframe libraries.\n",
    "\n",
    "See Robert Sinkovits' introduction to [Parallel Computing Concepts](https://github.com/sdsc/sdsc-summer-institute-2022/tree/main/2.1_parallel_computing_concepts).\n",
    "\n",
    "Author: Peter W. Rose (pwrose@ucsd.edu)"
   ]
  },
  {
   "cell_type": "code",
   "execution_count": null,
   "id": "adde6518-742b-42a6-923d-9f2a1ce7ef36",
   "metadata": {
    "tags": []
   },
   "outputs": [],
   "source": [
    "import os\n",
    "import numpy as np\n",
    "import dask.dataframe as dd\n",
    "import matplotlib\n",
    "import matplotlib.pyplot as plt\n",
    "import matplotlib.cm as cm\n",
    "%matplotlib inline\n",
    "import ipywidgets as widgets"
   ]
  },
  {
   "cell_type": "markdown",
   "id": "ee708ac8-ac06-4b09-b99f-0aacbeb2c23c",
   "metadata": {
    "tags": []
   },
   "source": [
    "If LOCAL_SCRATCH_DIR environment variable is not set, this notebook accesses the ../data directory for temporary files."
   ]
  },
  {
   "cell_type": "code",
   "execution_count": null,
   "id": "d3b8353c-b5de-4846-aa96-be5b2beef783",
   "metadata": {
    "tags": []
   },
   "outputs": [],
   "source": [
    "DATA_DIR = os.getenv(\"LOCAL_SCRATCH_DIR\", default=\"../data\")\n",
    "filename = os.path.join(DATA_DIR, \"gene_info.tsv\")\n",
    "file_size = f\"{os.path.getsize(filename)/1E9:.1f}\"\n",
    "RESULTS_DIR = \"results\"\n",
    "os.makedirs(RESULTS_DIR, exist_ok=True)"
   ]
  },
  {
   "cell_type": "markdown",
   "id": "8d7962b5-419d-4f2e-9ead-04f2c1066599",
   "metadata": {},
   "source": [
    "## Read benchmark results"
   ]
  },
  {
   "cell_type": "code",
   "execution_count": null,
   "id": "7ce17c74-3720-41f8-b4d0-a8c2b99ea01f",
   "metadata": {},
   "outputs": [],
   "source": [
    "df = dd.read_csv(os.path.join(RESULTS_DIR, \"*.csv\"))\n",
    "df = df.compute()"
   ]
  },
  {
   "cell_type": "code",
   "execution_count": null,
   "id": "d0aaf49a-0030-4a88-aaab-dbf7ff8bf9bc",
   "metadata": {
    "tags": []
   },
   "outputs": [],
   "source": [
    "formats = df[\"format\"].unique()\n",
    "sizes = df[\"size\"].unique()\n",
    "sizes.sort()\n",
    "dataframes = df[\"dataframe\"].unique()\n",
    "cores = df[\"cores\"].unique()\n",
    "cores.sort()\n",
    "max_cores = df[\"cores\"].max()\n",
    "\n",
    "print(f\"Formats    : {formats}\")\n",
    "print(f\"Sizes      : {sizes}\")\n",
    "print(f\"Dataframes : {dataframes}\")\n",
    "print(f\"Max. cores : {max_cores}\")"
   ]
  },
  {
   "cell_type": "markdown",
   "id": "b503f848-db11-41c7-b654-cb4330c7d960",
   "metadata": {},
   "source": [
    "## Plot Scaling for various dataset sizes and  dataframe libraries\n",
    "The linear dashed lines show runtimes for perfect scaling in the log2 - log plot."
   ]
  },
  {
   "cell_type": "code",
   "execution_count": null,
   "id": "ba8d92db-207f-48dd-be39-2a3c40f49d63",
   "metadata": {
    "tags": []
   },
   "outputs": [],
   "source": [
    "n_rows = len(formats) * len(dataframes)\n",
    "\n",
    "fig, axs = plt.subplots(nrows=n_rows, ncols=1, figsize=(14, 11*n_rows))\n",
    "colors = cm.rainbow(np.linspace(0, 1, len(sizes)))\n",
    "\n",
    "for i, frmt in enumerate(formats):\n",
    "    for j, dtfrm in enumerate(dataframes):\n",
    "        for s, c in zip(sizes, colors):\n",
    "            dp = df[(df[\"format\"] == frmt) & (df[\"dataframe\"] == dtfrm) & (df[\"size\"] == s)].copy()\n",
    "            ix = i * len(dataframes) + j\n",
    "            axs[ix].set_xscale(\"log\", base=2)\n",
    "            axs[ix].set_yscale(\"log\")\n",
    "            for axis in [axs[ix].xaxis, axs[ix].yaxis]:\n",
    "                formatter = matplotlib.ticker.FormatStrFormatter(\"%d\")\n",
    "                axis.set_major_formatter(formatter)\n",
    "                axis.set_minor_formatter(formatter)\n",
    "            axs[ix].grid(visible=True, which='major', linewidth=2)\n",
    "            axs[ix].grid(visible=True, which='minor')\n",
    "\n",
    "            axs[ix].set_title(f\"Scaling Plot for {dtfrm} (format={frmt})\", fontsize=\"xx-large\")\n",
    "            axs[ix].set_xlabel(\"Cores\", fontsize=\"x-large\")\n",
    "            axs[ix].set_ylabel(\"Time [s]\", fontsize=\"x-large\")\n",
    "            axs[ix].set_xlim([1, max_cores])\n",
    "            axs[ix].plot(dp[\"cores\"].values, dp[\"time\"].values, color=c, marker=\"o\", linewidth=3, label=f\"{s} GB\")\n",
    "            axs[ix].plot(dp[\"cores\"].values, dp[\"linear\"].values, color=c, linestyle=\"dashed\", linewidth=1)\n",
    "            axs[ix].legend(loc=\"lower left\", bbox_to_anchor=(0.05, 0.05), fontsize=\"large\", frameon=True)"
   ]
  },
  {
   "cell_type": "markdown",
   "id": "dfe84ec5-30be-4a96-bde4-807f8515f8ec",
   "metadata": {},
   "source": [
    "## Parallel Efficiency\n",
    "* Time: observed runtime\n",
    "* Parallel efficiency: measure of resource utilization for parallel processing\n",
    "\n",
    "For perfect scaling the parallel efficiency is 1.0."
   ]
  },
  {
   "cell_type": "code",
   "execution_count": null,
   "id": "c2c21022-79fe-454a-a7dd-86d19428ac11",
   "metadata": {
    "tags": []
   },
   "outputs": [],
   "source": [
    "n_rows = len(formats) * len(dataframes)\n",
    "\n",
    "fig, axs = plt.subplots(nrows=n_rows, ncols=1, figsize=(14, 11*n_rows))\n",
    "colors = cm.rainbow(np.linspace(0, 1, len(sizes)))\n",
    "\n",
    "for i, frmt in enumerate(formats):\n",
    "    for j, dtfrm in enumerate(dataframes):\n",
    "        for s, c in zip(sizes, colors):\n",
    "            dp = df[(df[\"format\"] == frmt) & (df[\"dataframe\"] == dtfrm) & (df[\"size\"] == s)].copy()\n",
    "            ix = i * len(dataframes) + j\n",
    "            axs[ix].set_xscale(\"log\", base=2)\n",
    "            formatter = matplotlib.ticker.FormatStrFormatter(\"%d\")\n",
    "            axs[ix].xaxis.set_major_formatter(formatter)\n",
    "            axs[ix].xaxis.set_minor_formatter(formatter)\n",
    "            axs[ix].grid(visible=True, which=\"major\", linewidth=2)\n",
    "            axs[ix].grid(visible=True, which=\"minor\")\n",
    "\n",
    "            axs[ix].set_title(f\"Parallel Efficiency for {dtfrm} (format={frmt})\", fontsize=\"xx-large\")\n",
    "            axs[ix].set_xlabel(\"Cores\", fontsize=\"x-large\")\n",
    "            axs[ix].set_ylabel(\"Parallel Efficiency\", fontsize=\"x-large\")\n",
    "            axs[ix].set_xlim([1, max_cores])\n",
    "            axs[ix].plot(dp[\"cores\"].values, dp[\"efficiency\"].values, color=c, marker=\"o\", linewidth=3, label=f\"{s} GB\")\n",
    "            axs[ix].legend(loc='lower left', bbox_to_anchor=(0.05, 0.05), fontsize=\"large\", frameon=True)"
   ]
  },
  {
   "cell_type": "markdown",
   "id": "55f9f399-f10f-4107-aef7-b5eaa0bee3a9",
   "metadata": {},
   "source": [
    "## Comparison of Dataframe Libraries and File Formats"
   ]
  },
  {
   "cell_type": "code",
   "execution_count": null,
   "id": "31bd970d-fa7f-4882-89bb-b5e78fa07bb9",
   "metadata": {},
   "outputs": [],
   "source": [
    "style = {'description_width': \"initial\"}\n",
    "c_widget = widgets.RadioButtons(options=cores, description=\"Select number of cores:\", style=style)\n",
    "s_widget = widgets.RadioButtons(options=sizes, description=\"Select dataset size (GB):\", style=style)"
   ]
  },
  {
   "cell_type": "code",
   "execution_count": null,
   "id": "ea81a2d4-e49d-451c-8d37-e73e84f49171",
   "metadata": {},
   "outputs": [],
   "source": [
    "display(c_widget, s_widget)"
   ]
  },
  {
   "cell_type": "code",
   "execution_count": null,
   "id": "60a23a43-2212-4581-9a79-356602bd4449",
   "metadata": {},
   "outputs": [],
   "source": [
    "n_cores = c_widget.value\n",
    "size = s_widget.value\n",
    "print(f\"cores {n_cores}, size {size}\")"
   ]
  },
  {
   "cell_type": "code",
   "execution_count": null,
   "id": "381b9be5-f16f-47b7-b3b0-83a17ce7eb88",
   "metadata": {},
   "outputs": [],
   "source": [
    "dc = df[(df[\"cores\"] == n_cores) & (df[\"size\"] == size)].copy()"
   ]
  },
  {
   "cell_type": "code",
   "execution_count": null,
   "id": "d4a6e33e-37ad-43fd-bf50-bd0caddd7482",
   "metadata": {},
   "outputs": [],
   "source": [
    "dc"
   ]
  },
  {
   "cell_type": "code",
   "execution_count": null,
   "id": "8664f069-0b60-4273-ab12-dfd4b562a9ff",
   "metadata": {},
   "outputs": [],
   "source": [
    "sns.set_theme(style=\"whitegrid\")\n",
    "sns.set(font_scale=1.3)\n",
    "g = sns.catplot(data=dc, kind=\"bar\", x=\"dataframe\", y=\"time\", hue=\"format\", palette=\"dark\", alpha=.6, height=6)\n",
    "g.set(title=f\"Runtime for data size {size} GB on {n_cores} cores\")\n",
    "g.despine(left=True)\n",
    "g.set_axis_labels(\"Dataframe\", \"Time [s]\")\n",
    "g.legend.set_title(\"File format\")"
   ]
  }
 ],
 "metadata": {
  "kernelspec": {
   "display_name": "Python 3 (ipykernel)",
   "language": "python",
   "name": "python3"
  },
  "language_info": {
   "codemirror_mode": {
    "name": "ipython",
    "version": 3
   },
   "file_extension": ".py",
   "mimetype": "text/x-python",
   "name": "python",
   "nbconvert_exporter": "python",
   "pygments_lexer": "ipython3",
   "version": "3.9.13"
  }
 },
 "nbformat": 4,
 "nbformat_minor": 5
}
